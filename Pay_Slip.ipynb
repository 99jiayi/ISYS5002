{
  "nbformat": 4,
  "nbformat_minor": 0,
  "metadata": {
    "colab": {
      "name": "Pay Slip.ipynb",
      "provenance": [],
      "include_colab_link": true
    },
    "kernelspec": {
      "name": "python3",
      "display_name": "Python 3"
    },
    "language_info": {
      "name": "python"
    }
  },
  "cells": [
    {
      "cell_type": "markdown",
      "metadata": {
        "id": "view-in-github",
        "colab_type": "text"
      },
      "source": [
        "<a href=\"https://colab.research.google.com/github/99jiayi/ISYS5002/blob/main/Pay_Slip.ipynb\" target=\"_parent\"><img src=\"https://colab.research.google.com/assets/colab-badge.svg\" alt=\"Open In Colab\"/></a>"
      ]
    },
    {
      "cell_type": "markdown",
      "source": [
        "# Task: Write a program to print out a payslip for hourly paid employees. <br>\n",
        "Modify the Gross pay activity to print out a payslip for hourly paid employees.<br>Refer to week 2's Gross Pay activity.\n",
        "\n",
        "[What has to be on a pay slip?](https://www.fairwork.gov.au/pay-and-wages/paying-wages/pay-slips#what-has-to-be-on-a-pay-slip)\n",
        "\n",
        "[Resident tax rates 2022–23](https://www.ato.gov.au/rates/individual-income-tax-rates/)"
      ],
      "metadata": {
        "id": "2jQsL4QPFfuG"
      }
    },
    {
      "cell_type": "markdown",
      "source": [
        "1. Compute the pay slip of hourly paid employee then display the calculated the pay slip. <br>\n",
        "\n",
        "2. INPUT: <br>\n",
        "\n",
        "  Employer’s name<br>\n",
        "  Employee’s name <br>\n",
        "  Employer’s Australian Business Number<br>\n",
        "\n",
        "  Date of payment <br>\n",
        "  Pay period<br>\n",
        "\n",
        "  Annual income<br>\n",
        "  Hours worked<br>\n",
        "  Hourly pay rate<br>\n",
        "  Hourly pay rate of the last day of employment<br>\n",
        "\n",
        "  Gross pay<br>\n",
        "  Net pay<br>\n",
        "\n",
        "  Entitlements<br>\n",
        "  Deductions (Tax payable)<br>\n",
        "\n",
        "  Processing: <br>\n",
        "  If income is less than 18200, then no tax applied <br>\n",
        "  If income is between 18201 and 45000 then (income - 18200) x 0.19 <br>\n",
        "  If income is between 45001 and 120000 then [(income - 45000) x 0.325] + 5092<br>\n",
        "  If income is between 120001 and 180000 then [(income - 120000) x 0.37] + 29467<br>\n",
        "  If income is between 180001 and over then [(income - 180000) x 0.45] + 51667<br>\n",
        "\n",
        "  OUTPUT: Output pay slip <br>\n",
        "\n",
        "3. Example:\n",
        "if income = 17500 --> tax = 0 <br>\n",
        "if income = 20000 --> tax = (20000 - 18200) x 0.19 = 342<br>\n",
        "if income = 80000 --> tax = [(80000 - 45000) x 0.325] + 5092 = 16467<br>\n",
        "\n",
        "4. Get the input data <br>\n",
        "  Calculate the pay slip<br>\n",
        "  Display the pay slip<br>\n"
      ],
      "metadata": {
        "id": "bVblYdv7Fk6l"
      }
    },
    {
      "cell_type": "code",
      "execution_count": 26,
      "metadata": {
        "id": "bKtEUVfhD1GO",
        "colab": {
          "base_uri": "https://localhost:8080/"
        },
        "outputId": "9a8524fe-1548-4e55-9586-003dbd82d189"
      },
      "outputs": [
        {
          "output_type": "stream",
          "name": "stdout",
          "text": [
            "Please enter employer name:Ms.Rohini\n",
            "The name of employer is: Ms.Rohini\n",
            "Please enter employee name:Jia Yi\n",
            "The name of employee is: Jia Yi\n",
            "Please enter the employer Australian Business Number:12345\n",
            "The employer Australian Business Number is: 12345\n",
            "Please enter the date payment:10 August 2022\n",
            "The date payment is: 10 August 2022\n",
            "Please enter the start working date:15 July 2022\n",
            "Please enter the end working date:10 August 2022\n",
            "The start working date is: 15 July 2022\n",
            "The end working date is: 10 August 2022\n",
            "Enter hours worked:30\n",
            "The hours worked is: 30\n",
            "Please enter the hourly pay:27\n",
            "The hourly pay is: 27.0\n",
            "Please enter the hourly pay rate of the last day of employment:27\n",
            "The hourly pay rate of the last day of employment: 27\n",
            "Please enter the annual_income:2500\n",
            "The annual income is: 2500\n",
            "The gross pay is: $810.000000\n",
            "Please enter the shiftwork allowances:80\n",
            "The shiftwork allowances is: 80\n",
            "Please enter the overtime50\n",
            "The overtime is: 50\n",
            "The sum of entitlements is: 8050\n",
            "The tax payable is: no tax payable\n",
            "Enter the gross_pay: 810\n",
            "Enter the tax_payable: 0\n",
            "The net pay is: 810\n"
          ]
        }
      ],
      "source": [
        "#Get the employer's name\n",
        "employer_name = input('Please enter employer name:')\n",
        "print('The name of employer is:', employer_name)\n",
        "\n",
        "#Get the employee's name\n",
        "employee_name = input('Please enter employee name:')\n",
        "print('The name of employee is:', employee_name)\n",
        "\n",
        "#Get the employer’s Australian Business Number\n",
        "ABN = input('Please enter the employer Australian Business Number:')\n",
        "print('The employer Australian Business Number is:', ABN)\n",
        "\n",
        "#Get the date of payment\n",
        "date_payment = input('Please enter the date payment:')\n",
        "print('The date payment is:',date_payment)\n",
        "\n",
        "#Get the pay period (start working date to end working date)\n",
        "start_date = input('Please enter the start working date:')\n",
        "end_date = input('Please enter the end working date:')\n",
        "\n",
        "print('The start working date is:',start_date)\n",
        "print('The end working date is:',end_date)\n",
        "\n",
        "#Get the hours worked\n",
        "hours_worked = int(input('Enter hours worked:'))\n",
        "print('The hours worked is:',hours_worked)\n",
        "\n",
        "#Get the hourly pay\n",
        "hourly_pay = float(input(\"Please enter the hourly pay:\"))\n",
        "print(\"The hourly pay is:\",hourly_pay)\n",
        "\n",
        "#Get the hourly pay rate of the last day of employment\n",
        "hourly_pay_lday = input('Please enter the hourly pay rate of the last day of employment:')\n",
        "print('The hourly pay rate of the last day of employment:',hourly_pay_lday)\n",
        "\n",
        "#Get the annual income\n",
        "annual_income = int(input('Please enter the annual_income:'))\n",
        "print(\"The annual income is:\",annual_income)\n",
        "\n",
        "#Get the gross pay = hourly_pay * hours_worked\n",
        "gross_pay = hourly_pay * hours_worked\n",
        "print(\"The gross pay is: $\",format(gross_pay,'2f'),sep='')\n",
        "\n",
        "#Get the entitlements (such as loadings, penalty rates, shiftwork allowances, overtime, allowances, incentive based payments, termination entitlements and any other separately identifiable amount.)\n",
        "shiftwork_allowances = input('Please enter the shiftwork allowances:')\n",
        "print('The shiftwork allowances is:',shiftwork_allowances)\n",
        "\n",
        "overtime = input('Please enter the overtime')\n",
        "print('The overtime is:',overtime)\n",
        "\n",
        "sum_of_entitlement = shiftwork_allowances + overtime\n",
        "print('The sum of entitlements is:',sum_of_entitlement)\n",
        "\n",
        "#Get the tax payable\n",
        "if annual_income < 18200:\n",
        "  tax_payable = ('no tax payable')\n",
        "  print(\"The tax payable is:\",tax_payable)\n",
        "\n",
        "elif 18201 <= annual_income <= 45000:\n",
        "  tax_payable = (annual_income - 18200)*0.19\n",
        "  print(\"The tax payable is:\",tax_payable)\n",
        "\n",
        "elif 45001 <= annual_income <= 120000:\n",
        "  tax_payable = ((annual_income - 45000)*0.325) + 5092\n",
        "  print(\"The tax payable is:\",tax_payable)\n",
        "\n",
        "elif 120001 <= annual_income <= 180000:\n",
        "  tax_payable = ((annual_income - 120000)*0.37) + 29467\n",
        "  print(\"The tax payable is:\",tax_payable)\n",
        "\n",
        "else:\n",
        "  annual_income > 180000\n",
        "  tax_payable = ((annual_income - 180000)*0.45) + 51667\n",
        "  print(\"The tax payable is:\",tax_payable)\n",
        "\n",
        "#Get the net pay is the amount paid to the employee after deductions.\n",
        "gross_pay = int(input(\"Enter the gross_pay: \"))\n",
        "tax_payable = int(input(\"Enter the tax_payable: \"))\n",
        "\n",
        "net_pay = gross_pay - tax_payable\n",
        "print('The net pay is:',net_pay)\n"
      ]
    }
  ]
}