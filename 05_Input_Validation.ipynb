{
  "cells": [
    {
      "cell_type": "markdown",
      "metadata": {
        "id": "view-in-github",
        "colab_type": "text"
      },
      "source": [
        "<a href=\"https://colab.research.google.com/github/99jiayi/ISYS5002/blob/main/05_Input_Validation.ipynb\" target=\"_parent\"><img src=\"https://colab.research.google.com/assets/colab-badge.svg\" alt=\"Open In Colab\"/></a>"
      ]
    },
    {
      "cell_type": "markdown",
      "metadata": {
        "id": "b5835b0c"
      },
      "source": [
        "# Input Validation\n",
        "\n",
        "Input validation code verifies that user supplied data, such as text from the input() function, is formatted appropriately.\n",
        "\n",
        "* isdigit()\n",
        "* try/except\n",
        "* PyInputPlus\n",
        "\n"
      ],
      "id": "b5835b0c"
    },
    {
      "cell_type": "code",
      "execution_count": null,
      "metadata": {
        "colab": {
          "base_uri": "https://localhost:8080/"
        },
        "id": "BA8h-pV08W0s",
        "outputId": "4c78ef32-e52b-48a5-fa3a-a2c5e75b25c8"
      },
      "outputs": [
        {
          "name": "stdout",
          "output_type": "stream",
          "text": [
            "Enter the hourly pay rate:30\n",
            "30\n"
          ]
        }
      ],
      "source": [
        "salaryStr = input (\"Enter the hourly pay rate:\")\n",
        "\n",
        "print(salaryStr)"
      ],
      "id": "BA8h-pV08W0s"
    },
    {
      "cell_type": "code",
      "execution_count": null,
      "metadata": {
        "colab": {
          "base_uri": "https://localhost:8080/"
        },
        "id": "kknkZtvw8_M1",
        "outputId": "3688eb28-1267-4715-caaa-8b58468281cc"
      },
      "outputs": [
        {
          "name": "stdout",
          "output_type": "stream",
          "text": [
            "Enter the hourly pay rate:28.5\n",
            "28.5\n"
          ]
        }
      ],
      "source": [
        "salaryStr = float(input(\"Enter the hourly pay rate:\"))\n",
        "\n",
        "print(salaryStr)"
      ],
      "id": "kknkZtvw8_M1"
    },
    {
      "cell_type": "code",
      "execution_count": null,
      "metadata": {
        "colab": {
          "base_uri": "https://localhost:8080/"
        },
        "id": "hfRxNC9n9KRF",
        "outputId": "87f423f9-57f1-4044-d497-f8b8fd0c3e7a"
      },
      "outputs": [
        {
          "name": "stdout",
          "output_type": "stream",
          "text": [
            "Enter the hourly pay rate:25\n",
            "25\n"
          ]
        }
      ],
      "source": [
        "salaryStr = int(input(\"Enter the hourly pay rate:\"))\n",
        "\n",
        "print(salaryStr)"
      ],
      "id": "hfRxNC9n9KRF"
    },
    {
      "cell_type": "markdown",
      "metadata": {
        "id": "acc7252b"
      },
      "source": [
        "## isdigit()"
      ],
      "id": "acc7252b"
    },
    {
      "cell_type": "code",
      "execution_count": null,
      "metadata": {
        "colab": {
          "base_uri": "https://localhost:8080/"
        },
        "id": "695b1f5f",
        "outputId": "437d5250-0bda-43bb-85c5-87aced1ca156"
      },
      "outputs": [
        {
          "name": "stdout",
          "output_type": "stream",
          "text": [
            "Enter the hourly pay rate:27.5\n",
            "Invalid input for pay rate. Please enter a numeric value for pay rate:\n",
            "The pay rate is 27.5\n"
          ]
        }
      ],
      "source": [
        "salaryStr = (input(\"Enter the hourly pay rate:\"))\n",
        "\n",
        "if salaryStr.isdecimal():\n",
        "  #float(salaryStr)\n",
        "  salary = float(salaryStr)\n",
        "\n",
        "else:\n",
        "  print(\"Invalid input for pay rate. Please enter a numeric value for pay rate:\")\n",
        "\n",
        "print(\"The pay rate is\",salaryStr)"
      ],
      "id": "695b1f5f"
    },
    {
      "cell_type": "code",
      "execution_count": null,
      "metadata": {
        "colab": {
          "base_uri": "https://localhost:8080/"
        },
        "id": "2T1VPdz4e35q",
        "outputId": "48036024-cef3-4987-9104-ec050316648e"
      },
      "outputs": [
        {
          "name": "stdout",
          "output_type": "stream",
          "text": [
            "The pay rate is 24\n"
          ]
        }
      ],
      "source": [
        "if salaryStr.isdigit():\n",
        "  salary = float(salaryStr)\n",
        "\n",
        "else:\n",
        "  print(\"Invalid input for pay rate. Please enter a numeric value for pay rate:\")\n",
        "\n",
        "print(\"The pay rate is\",salaryStr)"
      ],
      "id": "2T1VPdz4e35q"
    },
    {
      "cell_type": "code",
      "execution_count": null,
      "metadata": {
        "colab": {
          "base_uri": "https://localhost:8080/"
        },
        "id": "8jzUSukP_BVZ",
        "outputId": "6c917736-e203-4c93-8f04-af2d677123da"
      },
      "outputs": [
        {
          "name": "stdout",
          "output_type": "stream",
          "text": [
            "Enter the hourly pay rate:30.5\n",
            "Invalid input for pay rate. Please enter a numeric value for pay rate:\n",
            "Enter the hourly pay rate:23\n",
            "The pay rate is 23\n"
          ]
        }
      ],
      "source": [
        "while True:\n",
        "  salaryStr = (input(\"Enter the hourly pay rate:\"))\n",
        "  \n",
        "  if salaryStr.isdigit():\n",
        "    float(salaryStr)\n",
        "    break\n",
        "  \n",
        "  else:\n",
        "    print(\"Invalid input for pay rate. Please enter a numeric value for pay rate:\")\n",
        "\n",
        "print(\"The pay rate is\",salaryStr)"
      ],
      "id": "8jzUSukP_BVZ"
    },
    {
      "cell_type": "markdown",
      "metadata": {
        "id": "qbYXnPLGeY6m"
      },
      "source": [
        "## try/except"
      ],
      "id": "qbYXnPLGeY6m"
    },
    {
      "cell_type": "code",
      "execution_count": null,
      "metadata": {
        "colab": {
          "base_uri": "https://localhost:8080/"
        },
        "id": "5f98c241",
        "outputId": "0738a882-6fbd-47e8-83a8-38cc9a58d7b2"
      },
      "outputs": [
        {
          "name": "stdout",
          "output_type": "stream",
          "text": [
            "Please enter a valid input for pay rate.Pay rate must be numeric value:\n",
            "Enter the hourly pay rate:26.5\n"
          ]
        }
      ],
      "source": [
        "try:\n",
        "  pay_rate = float(input(\"Enter the hourly pay rate:\"))\n",
        "\n",
        "except:\n",
        "  print(\"Please enter a valid input for pay rate. Pay rate must be numeric value:\")"
      ],
      "id": "5f98c241"
    },
    {
      "cell_type": "code",
      "execution_count": null,
      "metadata": {
        "colab": {
          "base_uri": "https://localhost:8080/"
        },
        "id": "RXf-0pg1AgKA",
        "outputId": "e62bbaa3-5f0b-43f1-e302-c97d5c252d09"
      },
      "outputs": [
        {
          "name": "stdout",
          "output_type": "stream",
          "text": [
            "Error occured. Please check your input\n",
            "Enter the hourly pay rate:25.5\n"
          ]
        }
      ],
      "source": [
        "try:\n",
        "  pay_rate = float(input(\"Enter the hourly pay rate:\"))\n",
        "\n",
        "except ValueError:\n",
        "  print(\"Please enter a valid input for pay rate.Pay rate must be numeric value:\")\n",
        "\n",
        "except:\n",
        "  print(\"Error occured. Please check your input\")"
      ],
      "id": "RXf-0pg1AgKA"
    },
    {
      "cell_type": "code",
      "execution_count": null,
      "metadata": {
        "colab": {
          "base_uri": "https://localhost:8080/"
        },
        "id": "zrBmlwko8D6Z",
        "outputId": "31ab6db8-e1d7-4e36-85e9-a618664caff0"
      },
      "outputs": [
        {
          "name": "stdout",
          "output_type": "stream",
          "text": [
            "Error occured. Please check your input\n",
            "Enter the hourly pay rate:33\n",
            "The pay rate is: 33.0\n",
            "Enter the hourly pay rate:30.5\n"
          ]
        }
      ],
      "source": [
        "while True:\n",
        "  try:\n",
        "    pay_rate = float(input(\"Enter the hourly pay rate:\"))\n",
        "    break\n",
        "\n",
        "  except ZeroDivisionError as Error:\n",
        "    print(\"Handling run-time error:\",Error)\n",
        "  \n",
        "  except:\n",
        "    print(\"Error occured. Please check your input\")\n",
        "     \n",
        "print(\"The pay rate is:\",pay_rate)"
      ],
      "id": "zrBmlwko8D6Z"
    },
    {
      "cell_type": "markdown",
      "metadata": {
        "id": "18c00dc3"
      },
      "source": [
        "## Module: PyInputPlus"
      ],
      "id": "18c00dc3"
    },
    {
      "cell_type": "code",
      "execution_count": null,
      "metadata": {
        "colab": {
          "base_uri": "https://localhost:8080/"
        },
        "id": "4vF9jw2CDoRU",
        "outputId": "9d1692f7-f748-4779-8c76-c4fc992f580b"
      },
      "outputs": [
        {
          "name": "stdout",
          "output_type": "stream",
          "text": [
            "Looking in indexes: https://pypi.org/simple, https://us-python.pkg.dev/colab-wheels/public/simple/\n",
            "Collecting PyInputPlus\n",
            "  Using cached PyInputPlus-0.2.12.tar.gz (20 kB)\n",
            "  Installing build dependencies ... \u001b[?25l\u001b[?25hdone\n",
            "  Getting requirements to build wheel ... \u001b[?25l\u001b[?25hdone\n",
            "    Preparing wheel metadata ... \u001b[?25l\u001b[?25hdone\n",
            "Collecting pysimplevalidate>=0.2.7\n",
            "  Downloading PySimpleValidate-0.2.12.tar.gz (22 kB)\n",
            "  Installing build dependencies ... \u001b[?25l\u001b[?25hdone\n",
            "  Getting requirements to build wheel ... \u001b[?25l\u001b[?25hdone\n",
            "    Preparing wheel metadata ... \u001b[?25l\u001b[?25hdone\n",
            "Collecting stdiomask>=0.0.3\n",
            "  Downloading stdiomask-0.0.6.tar.gz (3.6 kB)\n",
            "  Installing build dependencies ... \u001b[?25l\u001b[?25hdone\n",
            "  Getting requirements to build wheel ... \u001b[?25l\u001b[?25hdone\n",
            "    Preparing wheel metadata ... \u001b[?25l\u001b[?25hdone\n",
            "Building wheels for collected packages: PyInputPlus, pysimplevalidate, stdiomask\n",
            "  Building wheel for PyInputPlus (PEP 517) ... \u001b[?25l\u001b[?25hdone\n",
            "  Created wheel for PyInputPlus: filename=PyInputPlus-0.2.12-py3-none-any.whl size=11315 sha256=836a08885810ede6b5d2da04a22f447bcc02f66950539851c30d829d5d5cc74a\n",
            "  Stored in directory: /root/.cache/pip/wheels/e7/33/73/719f8f1bd984d39face880fd22f6c5ef1b85f726e84c687094\n",
            "  Building wheel for pysimplevalidate (PEP 517) ... \u001b[?25l\u001b[?25hdone\n",
            "  Created wheel for pysimplevalidate: filename=PySimpleValidate-0.2.12-py3-none-any.whl size=16193 sha256=c5603f2dabc26b2dfcaec1421860d691f30acefc34f9c0e0d251cfec6b3804db\n",
            "  Stored in directory: /root/.cache/pip/wheels/5a/8b/6c/2925d22b93860bdc9b8ce02c3d2cf79336606f7469cef66065\n",
            "  Building wheel for stdiomask (PEP 517) ... \u001b[?25l\u001b[?25hdone\n",
            "  Created wheel for stdiomask: filename=stdiomask-0.0.6-py3-none-any.whl size=3321 sha256=31c266ead02d55811e9f2848deae05d8c9b965972a1e6c9cbc10bafbcda1b4eb\n",
            "  Stored in directory: /root/.cache/pip/wheels/cf/13/89/64d0d3b167759523f4c1e68f883bbc30e7bfa27050edeb418e\n",
            "Successfully built PyInputPlus pysimplevalidate stdiomask\n",
            "Installing collected packages: stdiomask, pysimplevalidate, PyInputPlus\n",
            "Successfully installed PyInputPlus-0.2.12 pysimplevalidate-0.2.12 stdiomask-0.0.6\n"
          ]
        }
      ],
      "source": [
        "pip install PyInputPlus"
      ],
      "id": "4vF9jw2CDoRU"
    },
    {
      "cell_type": "code",
      "execution_count": null,
      "metadata": {
        "colab": {
          "base_uri": "https://localhost:8080/"
        },
        "id": "OvqPitIkh379",
        "outputId": "dc8b5560-9538-4953-fea6-d0fba7d4ce7b"
      },
      "outputs": [
        {
          "name": "stdout",
          "output_type": "stream",
          "text": [
            "Enter the pay rate:22r\n",
            "'22r' is not a float.\n",
            "Enter the pay rate:Hello\n",
            "'Hello' is not a float.\n",
            "Enter the pay rate:22\n",
            "The pay rate is: 22.0\n"
          ]
        }
      ],
      "source": [
        "import pyinputplus as pyip\n",
        "\n",
        "payRate = pyip.inputFloat(\"Enter the pay rate:\")\n",
        "\n",
        "print(\"The pay rate is:\",payRate)"
      ],
      "id": "OvqPitIkh379"
    },
    {
      "cell_type": "code",
      "execution_count": null,
      "metadata": {
        "colab": {
          "base_uri": "https://localhost:8080/"
        },
        "id": "BpOewJbgEWDU",
        "outputId": "15b9ffba-b19a-47db-ca00-0b0d9fff7bec"
      },
      "outputs": [
        {
          "name": "stdout",
          "output_type": "stream",
          "text": [
            "Enter the pay rate:28.5\n",
            "The pay rate is: 28.5\n",
            "\\Do you want to continue:yes\n",
            "Enter the pay rate:20\n",
            "The pay rate is: 20.0\n",
            "\\Do you want to continue:yes\n",
            "Enter the pay rate:26\n",
            "The pay rate is: 26.0\n",
            "\\Do you want to continue:no\n"
          ]
        }
      ],
      "source": [
        "import pyinputplus as pyip\n",
        "\n",
        "while True:\n",
        "  payRate = pyip.inputFloat(\"Enter the pay rate:\")\n",
        "  print(\"The pay rate is:\",payRate)\n",
        "\n",
        "  response = pyip.inputYesNo(\"\\Do you want to continue:\")\n",
        "  if response == 'no':\n",
        "    break\n"
      ],
      "id": "BpOewJbgEWDU"
    },
    {
      "cell_type": "markdown",
      "metadata": {
        "id": "C2lOxtVxAbUf"
      },
      "source": [
        "# Task: Implement input validation for Pay slip program\n",
        "\n",
        "- forthnightly payslip for hourly paid employee\n",
        "- pay after tax each forthnight"
      ],
      "id": "C2lOxtVxAbUf"
    },
    {
      "cell_type": "code",
      "execution_count": null,
      "metadata": {
        "colab": {
          "base_uri": "https://localhost:8080/"
        },
        "id": "UTjh5BUvFQyV",
        "outputId": "84133721-c378-4793-b60a-bca7bd0558ce"
      },
      "outputs": [
        {
          "name": "stdout",
          "output_type": "stream",
          "text": [
            "This program generates the gross pay\n",
            "Enter numbers of hours work per week:58\n",
            "Enter the rate in dollars:17.50\n",
            "Gross pay is $1,015.00\n"
          ]
        }
      ],
      "source": [
        "#python payslip program with input validation\n",
        "print('This program generates the gross pay')\n",
        "\n",
        "#enter the hour worked and pay rate\n",
        "hours = float(input(\"Enter numbers of hours work per week:\"))\n",
        "rate = float(input(\"Enter the rate in dollars:\"))\n",
        "gross_pay = rate*hours\n",
        "\n",
        "#validate the input data and generates the gross pay, if valid.\n",
        "if rate < 4.5:\n",
        "  print('Invalid Pay Rate')\n",
        "elif rate > 70:\n",
        "  print('Invalid Pay Rate')\n",
        "elif hours < 0:\n",
        "  print('Invalid Hours')\n",
        "  print('Enter hour between 0 and 70 range')\n",
        "elif hours > 70:\n",
        "  print('Invalid Hours')\n",
        "  print('Enter hour between 0 and 70 range')\n",
        "else:\n",
        "  print('Gross pay is ${:,.2f}'.format(gross_pay))"
      ],
      "id": "UTjh5BUvFQyV"
    },
    {
      "cell_type": "code",
      "source": [
        "print('This program generates the gross pay')\n",
        "\n",
        "hours = float(input(\"Enter numbers of hours work per week:\"))\n",
        "rate = float(input(\"Enter the rate in dollars:\"))\n",
        "gross_pay = rate*hours\n",
        "\n",
        "if rate < 4.5:\n",
        "  print('Invalid Pay Rate')\n",
        "elif rate > 70:\n",
        "  print('Invalid Pay Rate')\n",
        "elif hours < 0:\n",
        "  print('Invalid Hours')\n",
        "  print('Enter hour between 0 and 70 range')\n",
        "elif hours > 70:\n",
        "  print('Invalid Hours')\n",
        "  print('Enter hour between 0 and 70 range')\n",
        "else:\n",
        "  print('Gross pay is ${:,.2f}'.format(gross_pay))"
      ],
      "metadata": {
        "colab": {
          "base_uri": "https://localhost:8080/"
        },
        "id": "Htwu8mKBXD_I",
        "outputId": "c2c3fbec-8c68-4ef0-8aab-7a1e48c16dd4"
      },
      "id": "Htwu8mKBXD_I",
      "execution_count": 24,
      "outputs": [
        {
          "output_type": "stream",
          "name": "stdout",
          "text": [
            "This program generates the gross pay\n",
            "Enter numbers of hours work per week:72\n",
            "Enter the rate in dollars:22\n",
            "Invalid Hours\n",
            "Enter hour between 0 and 70 range\n"
          ]
        }
      ]
    },
    {
      "cell_type": "code",
      "execution_count": null,
      "metadata": {
        "id": "dBx5EC5HWBkA",
        "colab": {
          "base_uri": "https://localhost:8080/"
        },
        "outputId": "f64f1de5-863e-4560-a9c1-a0986938161e"
      },
      "outputs": [
        {
          "output_type": "stream",
          "name": "stdout",
          "text": [
            "Enter numbers of hours work per week:36\n",
            "Enter the rate in dollars:13\n",
            "The Employee's Gross Salary for the pay period is $468.00\n"
          ]
        }
      ],
      "source": [
        "hour = float(input(\"Enter numbers of hours work per week:\"))\n",
        "rate = float(input(\"Enter the rate in dollars:\"))\n",
        "gross_salary= hour*rate\n",
        "\n",
        "def payslip(hour, rate):\n",
        "  return payslip\n",
        "    \n",
        "if hour < 0 or hour > 40:\n",
        "  print(\"WARNING: Input Hours is outside possible range. Check for error\")\n",
        "if rate < 7.50 or rate > 18.25:\n",
        "  print('WARNING: Input Pay Rate is outside possible range. Check for error') \n",
        "\n",
        "print('The Employee\\'s Gross Salary for the pay period is ${:,.2f}'.format(gross_salary))"
      ],
      "id": "dBx5EC5HWBkA"
    },
    {
      "cell_type": "code",
      "source": [
        "hour = float(input(\"Enter numbers of hours work per week:\"))\n",
        "rate = float(input(\"Enter the rate in dollars:\"))\n",
        "gross_salary= hour*rate\n",
        "\n",
        "def payslip(hour, rate):\n",
        "  return payslip\n",
        "    \n",
        "if hour < 0 or hour > 40:\n",
        "  print(\"WARNING: Input Hours is outside possible range. Check for error\")\n",
        "if rate < 7.50 or rate > 18.25:\n",
        "  print('WARNING: Input Pay Rate is outside possible range. Check for error') \n",
        "\n",
        "print('The Employee\\'s Gross Salary for the pay period is ${:,.2f}'.format(gross_salary))"
      ],
      "metadata": {
        "colab": {
          "base_uri": "https://localhost:8080/"
        },
        "id": "sO5rozrkOo49",
        "outputId": "dbff2dd7-0ed4-488e-c04d-be6b5825065f"
      },
      "id": "sO5rozrkOo49",
      "execution_count": null,
      "outputs": [
        {
          "output_type": "stream",
          "name": "stdout",
          "text": [
            "Enter numbers of hours work per week:45\n",
            "Enter the rate in dollars:16\n",
            "WARNING: Input Hours is outside possible range. Check for error\n",
            "The Employee's Gross Salary for the pay period is $720.00\n"
          ]
        }
      ]
    },
    {
      "cell_type": "code",
      "source": [
        "hour = float(input(\"Enter numbers of hours work per week:\"))\n",
        "rate = float(input(\"Enter the rate in dollars:\"))\n",
        "gross_salary= hour*rate\n",
        "\n",
        "def payslip(hour, rate):\n",
        "  return payslip\n",
        "    \n",
        "if hour < 0 or hour > 40:\n",
        "  print(\"WARNING: Input Hours is outside possible range. Check for error\")\n",
        "if rate < 7.50 or rate > 18.25:\n",
        "  print('WARNING: Input Pay Rate is outside possible range. Check for error') \n",
        "\n",
        "print('The Employee\\'s Gross Salary for the pay period is ${:,.2f}'.format(gross_salary))"
      ],
      "metadata": {
        "colab": {
          "base_uri": "https://localhost:8080/"
        },
        "id": "qJzjol2OO1Xc",
        "outputId": "439b6528-ee15-4726-b5a0-53d70958072e"
      },
      "id": "qJzjol2OO1Xc",
      "execution_count": null,
      "outputs": [
        {
          "output_type": "stream",
          "name": "stdout",
          "text": [
            "Enter numbers of hours work per week:30\n",
            "Enter the rate in dollars:19.50\n",
            "WARNING: Input Pay Rate is outside possible range. Check for error\n",
            "The Employee's Gross Salary for the pay period is $585.00\n"
          ]
        }
      ]
    }
  ],
  "metadata": {
    "colab": {
      "name": "05_Input_Validation.ipynb",
      "provenance": [],
      "collapsed_sections": [],
      "include_colab_link": true
    },
    "kernelspec": {
      "display_name": "Python 3 (ipykernel)",
      "language": "python",
      "name": "python3"
    },
    "language_info": {
      "codemirror_mode": {
        "name": "ipython",
        "version": 3
      },
      "file_extension": ".py",
      "mimetype": "text/x-python",
      "name": "python",
      "nbconvert_exporter": "python",
      "pygments_lexer": "ipython3",
      "version": "3.9.6"
    }
  },
  "nbformat": 4,
  "nbformat_minor": 5
}