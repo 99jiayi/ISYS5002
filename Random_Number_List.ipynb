{
  "nbformat": 4,
  "nbformat_minor": 0,
  "metadata": {
    "colab": {
      "name": "Random Number List.ipynb",
      "provenance": [],
      "collapsed_sections": [
        "rtiCoY2fXsOm"
      ],
      "include_colab_link": true
    },
    "kernelspec": {
      "name": "python3",
      "display_name": "Python 3"
    },
    "language_info": {
      "name": "python"
    }
  },
  "cells": [
    {
      "cell_type": "markdown",
      "metadata": {
        "id": "view-in-github",
        "colab_type": "text"
      },
      "source": [
        "<a href=\"https://colab.research.google.com/github/99jiayi/ISYS5002/blob/main/Random_Number_List.ipynb\" target=\"_parent\"><img src=\"https://colab.research.google.com/assets/colab-badge.svg\" alt=\"Open In Colab\"/></a>"
      ]
    },
    {
      "cell_type": "markdown",
      "source": [
        "## Task 0: Save the notebook to Github"
      ],
      "metadata": {
        "id": "rtiCoY2fXsOm"
      }
    },
    {
      "cell_type": "markdown",
      "source": [
        "## Task 1: Randomly generate numbers and store them in a list"
      ],
      "metadata": {
        "id": "JrutiGpyXUx3"
      }
    },
    {
      "cell_type": "code",
      "execution_count": 2,
      "metadata": {
        "id": "XaXgvcY-XNE_",
        "colab": {
          "base_uri": "https://localhost:8080/"
        },
        "outputId": "cd1144b7-6095-4598-a871-2c6998d326d7"
      },
      "outputs": [
        {
          "output_type": "stream",
          "name": "stdout",
          "text": [
            "13\n"
          ]
        }
      ],
      "source": [
        "import random\n",
        "\n",
        "randNum = random.randint(10,20)\n",
        "print(randNum)"
      ]
    },
    {
      "cell_type": "markdown",
      "source": [
        "## Determine odd or even number\n"
      ],
      "metadata": {
        "id": "au8UuJOXJT74"
      }
    },
    {
      "cell_type": "code",
      "source": [
        "if randNum % 2 == 0:\n",
        "  print(randNum,\"is an even number\")\n",
        "else:\n",
        "  print(randNum,\"is an odd number\")"
      ],
      "metadata": {
        "id": "rqBAjtN0JlPn",
        "colab": {
          "base_uri": "https://localhost:8080/"
        },
        "outputId": "1314d7af-fd21-4ae1-cd48-b89cdcbb9c07"
      },
      "execution_count": 3,
      "outputs": [
        {
          "output_type": "stream",
          "name": "stdout",
          "text": [
            "13 is an odd number\n"
          ]
        }
      ]
    },
    {
      "cell_type": "markdown",
      "source": [
        "## Add the random number to a list"
      ],
      "metadata": {
        "id": "OfU7DWZYKEL4"
      }
    },
    {
      "cell_type": "code",
      "source": [
        "import random\n",
        "\n",
        "randlist = [] #craete an empty list\n",
        "\n",
        "randNum = random.randint(10,20) #generate a random number\n",
        "\n",
        "randlist.append(randNum)\n",
        "print(randlist)"
      ],
      "metadata": {
        "colab": {
          "base_uri": "https://localhost:8080/"
        },
        "id": "telOBxDoKL2o",
        "outputId": "128c8900-bafe-4f38-eac9-ec4713d17e85"
      },
      "execution_count": 5,
      "outputs": [
        {
          "output_type": "stream",
          "name": "stdout",
          "text": [
            "[17]\n"
          ]
        }
      ]
    },
    {
      "cell_type": "code",
      "source": [
        "#Generate and add five random numbers into the list\n",
        "import random\n",
        "\n",
        "randlist = [] #craete an empty list\n",
        "\n",
        "for item in range(1,6):\n",
        "  randNum = random.randint(10,20) #generate a random number\n",
        "  randlist.append(randNum)\n",
        "\n",
        "print(randlist)\n"
      ],
      "metadata": {
        "colab": {
          "base_uri": "https://localhost:8080/"
        },
        "id": "9UxcdMtUKuyv",
        "outputId": "a1557a99-b9ac-48b6-b512-383db8467edd"
      },
      "execution_count": 4,
      "outputs": [
        {
          "output_type": "stream",
          "name": "stdout",
          "text": [
            "[14, 16, 18, 17, 17]\n"
          ]
        }
      ]
    },
    {
      "cell_type": "code",
      "source": [
        "#Random number added to odd or even list\n",
        "import random\n",
        "\n",
        "randlist = [] #craete an empty list\n",
        "evenlist = []\n",
        "oddlist = []\n",
        "\n",
        "for item in range(1,6):\n",
        "  randNum = random.randint(10,20) #generate a random number\n",
        "  randlist.append(randNum)\n",
        "\n",
        "  if randNum % 2 == 0:\n",
        "    evenlist.append(randNum)\n",
        "    #print(randNum,\"is an even number\")\n",
        "  else:\n",
        "    oddlist.append(randNum)\n",
        "    #print(randNum,\"is an odd number\")\n",
        "\n",
        "print(randlist)\n",
        "print(\"The even number list is\",evenlist)\n",
        "print(\"The odd number list is\",oddlist)\n"
      ],
      "metadata": {
        "colab": {
          "base_uri": "https://localhost:8080/"
        },
        "id": "4oIA0l2ALuwb",
        "outputId": "73303ac0-893f-4a33-8ee0-1b0348d3674a"
      },
      "execution_count": 6,
      "outputs": [
        {
          "output_type": "stream",
          "name": "stdout",
          "text": [
            "[15, 17, 16, 10, 20]\n",
            "The even number list is [16, 10, 20]\n",
            "The odd number list is [15, 17]\n"
          ]
        }
      ]
    },
    {
      "cell_type": "code",
      "source": [
        "#Random number added to odd or even list\n",
        "import random\n",
        "\n",
        "randlist = [] #craete an empty list\n",
        "evenlist = []\n",
        "oddlist = []\n",
        "\n",
        "for item in range(1,11):\n",
        "  randNum = random.randint(10,20) #generate a random number\n",
        "  randlist.append(randNum)\n",
        "\n",
        "  if randNum % 2 == 0:\n",
        "    evenlist.append(randNum)\n",
        "    #print(randNum,\"is an even number\")\n",
        "  else:\n",
        "    oddlist.append(randNum)\n",
        "    #print(randNum,\"is an odd number\")\n",
        "\n",
        "print(randlist)\n",
        "print(\"The even number list is\",evenlist)\n",
        "print(\"The odd number list is\",oddlist)\n"
      ],
      "metadata": {
        "colab": {
          "base_uri": "https://localhost:8080/"
        },
        "id": "g2XcJHITM6J0",
        "outputId": "d6af9f8d-fd18-4cd1-f338-ed0ad67817ea"
      },
      "execution_count": 7,
      "outputs": [
        {
          "output_type": "stream",
          "name": "stdout",
          "text": [
            "[13, 13, 20, 16, 12, 15, 17, 13, 15, 13]\n",
            "The even number list is [20, 16, 12]\n",
            "The odd number list is [13, 13, 15, 17, 13, 15, 13]\n"
          ]
        }
      ]
    },
    {
      "cell_type": "markdown",
      "source": [
        "## Optional: \n",
        "### Randomly generate numbers and store in two lists: odd and even.\n",
        "### For each list find the minimum, maximum and average\n",
        "\n",
        "min( ) max( ) ave( )"
      ],
      "metadata": {
        "id": "zjjcoEONXf23"
      }
    },
    {
      "cell_type": "code",
      "source": [
        "import random\n",
        "\n",
        "randlist = [] #craete an empty list\n",
        "evenlist = []\n",
        "oddlist = []\n",
        "\n",
        "for item in range(1,11):\n",
        "  randNum = random.randint(10,20) #generate a random number\n",
        "  randlist.append(randNum)\n",
        "\n",
        "  if randNum % 2 == 0:\n",
        "    evenlist.append(randNum)\n",
        "    #print(randNum,\"is an even number\")\n",
        "  else:\n",
        "    oddlist.append(randNum)\n",
        "    #print(randNum,\"is an odd number\")\n",
        "\n",
        "print(randlist) \n",
        "print(\"The even number list minimum is\",min(evenlist))\n",
        "print(\"The even number list maximum is\",max(evenlist))\n",
        "\n",
        "print(\"The odd number list minimum is\",min(oddlist))\n",
        "print(\"The odd number list maximum is\",max(oddlist))\n",
        "\n",
        "#average\n",
        "oddlist_avg = sum(oddlist)/len(oddlist)\n",
        "evenlist_avg = sum(evenlist)/len(evenlist)\n",
        "print(\"The odd number list average is\",oddlist_avg)\n",
        "print(\"The even number list average is\",evenlist_avg)\n"
      ],
      "metadata": {
        "id": "ZduCTWusYA1m",
        "colab": {
          "base_uri": "https://localhost:8080/"
        },
        "outputId": "73400ef3-6a81-4bc3-eba5-0c3b23ec437b"
      },
      "execution_count": 12,
      "outputs": [
        {
          "output_type": "stream",
          "name": "stdout",
          "text": [
            "[12, 18, 12, 18, 10, 19, 15, 20, 13, 19]\n",
            "The even number list minimum is 10\n",
            "The even number list maximum is 20\n",
            "The odd number list minimum is 13\n",
            "The odd number list maximum is 19\n",
            "The odd number list average is 16.5\n",
            "The even number list average is 15.0\n"
          ]
        }
      ]
    }
  ]
}