{
  "nbformat": 4,
  "nbformat_minor": 0,
  "metadata": {
    "colab": {
      "name": "Functions_Tax_Payable.ipynb",
      "provenance": [],
      "collapsed_sections": [],
      "include_colab_link": true
    },
    "kernelspec": {
      "name": "python3",
      "display_name": "Python 3"
    },
    "language_info": {
      "name": "python"
    }
  },
  "cells": [
    {
      "cell_type": "markdown",
      "metadata": {
        "id": "view-in-github",
        "colab_type": "text"
      },
      "source": [
        "<a href=\"https://colab.research.google.com/github/99jiayi/ISYS5002/blob/main/04_Functions_Tax_Payable.ipynb\" target=\"_parent\"><img src=\"https://colab.research.google.com/assets/colab-badge.svg\" alt=\"Open In Colab\"/></a>"
      ]
    },
    {
      "cell_type": "markdown",
      "metadata": {
        "id": "bVMwNyExqHgH"
      },
      "source": [
        "# Tax Calculation\n",
        "\n",
        "Write a program the prompts the user for their income and calculates the \n",
        "tax payable based on the Australian Tax Office [Resident tax rates 2021–22\n",
        "Taxable income](https://www.ato.gov.au/rates/individual-income-tax-rates/)\n",
        "\n",
        "Income            | Tax on this income \n",
        "------------------|----------------------\n",
        "0 – \\$18,200       | Nil\n",
        "\\$18,201 – \\$45,000 | 19 cents for each \\$1 over \\$18,200\n",
        "\\$45,001 – \\$120,000 | \\$5,092 plus 32.5 cents for each \\$1 over \\$45,000\n",
        "\\$120,001 – \\$180,000 |  \\$29,467 plus 37 cents for each \\$1 over \\$120,000\n",
        "\\$180,001 and over | \\$51,667 plus 45 cents for each \\$1 over \\$180,000\n",
        "\n",
        "## Task 0 - Import notebook to GitHub\n",
        "\n",
        "First, import the notebook into Colab and save an initial copy to GitHub."
      ]
    },
    {
      "cell_type": "markdown",
      "metadata": {
        "id": "GQPi2a6VI0rf"
      },
      "source": [
        "## Task 1 - Complete Tax Payable Function\n",
        "\n",
        "When you apply the 5-step process you will end up with an algorithm. Here \n",
        "is a very simple algorithm to solve our simple program.  We often call this\n",
        "a high level overview of the problem.  We now know enough about computers and \n",
        "programming now to understand that these high level steps will need to be split \n",
        "into small steps that a computer can implement.  but these high level steps make\n",
        "good candidates for functions.  \n",
        "\n",
        "For our tax calculation problem, if we had functions to perform the following \n",
        "steps, would this solve our problem?  If not what steps would you add?\n",
        "\n",
        "1. Get the income\n",
        "2. Calculate the tax payable\n",
        "3. Output tax payable"
      ]
    },
    {
      "cell_type": "code",
      "source": [
        "# prompt user for income input and display the value\n",
        "income = int(input(\"Enter the yearly income: \"))\n",
        "print(\"The income is\", income)\n",
        "\n",
        "# based on the income, determines the correct income bracket and calculates the tax payable amount\n",
        "def tax_payable(income):\n",
        "\n",
        "  if income <= 18200:\n",
        "      tax_payable = 0\n",
        "\n",
        "  elif 18201 <= income <= 45000:\n",
        "      tax_payable = (income - 18200) *0.19\n",
        "\n",
        "  elif 45000 < income <= 120000:\n",
        "      tax_payable = ((income - 45000) *0.325) + 5092\n",
        "\n",
        "  elif 120001 <= income <= 180000:\n",
        "      tax_payable = ((income - 120000) *0.37) + 29467\n",
        "\n",
        "  else:\n",
        "    tax_payable = ((income - 120000) *0.45) + 51667\n",
        "\n",
        "  return tax_payable \n",
        "\n",
        "# Output the calculated tax payable amount\n",
        "print(\"The tax payable is $\", tax_payable(income))\n"
      ],
      "metadata": {
        "id": "kuwq-dEPF6Xi",
        "colab": {
          "base_uri": "https://localhost:8080/"
        },
        "outputId": "45ba331c-4d77-4d2e-cae7-250e0676f3e1"
      },
      "execution_count": null,
      "outputs": [
        {
          "output_type": "stream",
          "name": "stdout",
          "text": [
            "Enter the yearly income: 238000\n",
            "The income is 238000\n",
            "The tax payable is $ 104767.0\n"
          ]
        }
      ]
    },
    {
      "cell_type": "markdown",
      "source": [
        "## Implement the tax payable program into functions"
      ],
      "metadata": {
        "id": "-SKzJl568941"
      }
    },
    {
      "cell_type": "code",
      "execution_count": null,
      "metadata": {
        "id": "AuzMU2B7J-q4",
        "colab": {
          "base_uri": "https://localhost:8080/"
        },
        "outputId": "ba3bed25-9b59-45c7-a981-f27d0d632eb8"
      },
      "outputs": [
        {
          "name": "stdout",
          "output_type": "stream",
          "text": [
            "Enter the yearly income: 125000\n"
          ]
        }
      ],
      "source": [
        "income = int(input(\"Enter the yearly income: \"))\n",
        "\n",
        "def calculate_tax(income):\n",
        "\n",
        "  if income <= 18200:\n",
        "    tax_payable = 0\n",
        "  \n",
        "  elif 18201 <= income <= 45000:\n",
        "    tax_payable = (income - 18200) *0.19\n",
        "  \n",
        "  elif 45000 < income <= 120000:\n",
        "    tax_payable = ((income - 45000) *0.325) + 5092\n",
        "  \n",
        "  elif 120001 <= income <= 180000:\n",
        "    tax_payable = ((income - 120000) *0.37) + 29467\n",
        "  \n",
        "  else:\n",
        "    tax_payable = ((income - 120000) *0.45) + 51667\n",
        "  \n",
        "  return tax_payable"
      ]
    },
    {
      "cell_type": "code",
      "source": [
        "print('What is your income for the year $',income)\n",
        "print('The tax payable is $',tax_payable(income))"
      ],
      "metadata": {
        "colab": {
          "base_uri": "https://localhost:8080/"
        },
        "id": "4314QMDcXK4k",
        "outputId": "6dd6d734-d0af-46fe-fba1-833b204a991b"
      },
      "execution_count": null,
      "outputs": [
        {
          "output_type": "stream",
          "name": "stdout",
          "text": [
            "What is your income for the year $ 125000\n",
            "The tax payable is $ 31317.0\n"
          ]
        }
      ]
    },
    {
      "cell_type": "markdown",
      "metadata": {
        "id": "AYwArCuRzwRh"
      },
      "source": [
        "## Using the Residents tax rate table, complete the following function"
      ]
    },
    {
      "cell_type": "code",
      "source": [
        "income = int(88000)\n",
        "\n",
        "def tax_payable(income):\n",
        "  if income <= 18200:\n",
        "    tax_payable = 0\n",
        "  \n",
        "  elif 18201 <= income <= 45000:\n",
        "    tax_payable = (income - 18200) *0.19\n",
        "\n",
        "  elif 45000 < income <= 120000:\n",
        "    tax_payable = ((income - 45000) *0.325) + 5092\n",
        "\n",
        "  elif 120001 <= income <= 180000:\n",
        "    tax_payable = ((income - 120000) *0.37) + 29467\n",
        "\n",
        "  else:\n",
        "    tax_payable = ((income - 120000) *0.45) + 51667\n",
        "\n",
        "  return tax_payable\n",
        "\n",
        "print('Your yearly income is $',income)\n",
        "print('Your yearly tax payable $',tax_payable(income))"
      ],
      "metadata": {
        "colab": {
          "base_uri": "https://localhost:8080/"
        },
        "id": "j3I98LkJlMt3",
        "outputId": "ce2164e2-8163-4d9c-e112-b0adbbf5f1d4"
      },
      "execution_count": null,
      "outputs": [
        {
          "output_type": "stream",
          "name": "stdout",
          "text": [
            "Your yearly income is $ 88000\n",
            "Your yearly tax payable $ 19067.0\n"
          ]
        }
      ]
    },
    {
      "cell_type": "markdown",
      "metadata": {
        "id": "BNdsJ9jszwRi"
      },
      "source": [
        "## Task 2 - Complete the program"
      ]
    },
    {
      "cell_type": "code",
      "execution_count": null,
      "metadata": {
        "id": "pd8m2I1uMuAu",
        "colab": {
          "base_uri": "https://localhost:8080/"
        },
        "outputId": "d72febb0-e45a-45d9-d16b-a1711cd53d55"
      },
      "outputs": [
        {
          "output_type": "stream",
          "name": "stdout",
          "text": [
            "Enter the yearly income: 136000\n",
            "The income is $ 136000\n",
            "The tax payable is $ 35387.0\n"
          ]
        }
      ],
      "source": [
        "# 'Main line'\n",
        "# Step 1 - Get the income\n",
        "income = int(input(\"Enter the yearly income: \"))\n",
        "print(\"The income is $\", income)\n",
        "\n",
        "# Step 2 - Calculate the tax\n",
        "def calculate_tax(income):\n",
        "  if income <= 18200:\n",
        "    tax_payable = 0\n",
        "  \n",
        "  elif 18201 <= income <= 45000:\n",
        "    tax_payable = (income - 18200) *0.19\n",
        "  \n",
        "  elif 45000 < income <= 120000:\n",
        "    tax_payable = ((income - 45000) *0.325) + 5092\n",
        "  \n",
        "  elif 120001 <= income <= 180000:\n",
        "    tax_payable = ((income - 120000) *0.37) + 29467\n",
        "  \n",
        "  else:\n",
        "    tax_payable = ((income - 120000) *0.45) + 51667\n",
        "\n",
        "  return tax_payable\n",
        "\n",
        "# Step 3 - Output tax payable\n",
        "print(\"The tax payable is $\",calculate_tax(income))"
      ]
    },
    {
      "cell_type": "markdown",
      "metadata": {
        "id": "TDehZWCyzwRi"
      },
      "source": [
        "## Task 3 (Homework) - Payslip\n",
        "\n",
        "How could you use these functions with the payslip notebook?\n"
      ]
    },
    {
      "cell_type": "code",
      "source": [
        "def employee_details(pay_slip):\n",
        "  \n",
        "  name_of_employee = input(\"Please enter the employee's name:\")\n",
        "  print('The employees name is :',name_of_employee)\n",
        "\n",
        "  name_of_employer = input(\"Please enter the employer's name:\")\n",
        "  print('The employer name is :',name_of_employer)\n",
        "\n",
        "  hours_worked = input(\"Please enter the hours worked: \")\n",
        "  print('The hours worked is:',hours_worked)\n",
        "\n",
        "  hourly_pay = input(\"Please enter the hourly pay $:\")\n",
        "  print('The hourly pay is:',hourly_pay)\n",
        "\n",
        "  Employer_Australian_Business_Number = input(\"Please enter the ABN:\")\n",
        "  print('The ABN is:',Employer_Australian_Business_Number)\n",
        "\n",
        "  Date_of_payment = input(\"Please enter the date of payment:\")\n",
        "  print('The date of payment is:',Date_of_payment)\n",
        "\n",
        "  Pay_period = input(\"Please enter the pay period:\")\n",
        "  print('The pay period is:',Pay_period)\n",
        "\n",
        "  annual_income = input(\"Please enter the annual income:\")\n",
        "  print('The annual income is:',annual_income)\n",
        "\n",
        "  Hourly_pay_rate_of_the_last_day_of_employment = input(\"Please enter the hourly pay rate of last day of employment:\")\n",
        "  print('The houly pay rate of last day employment is:',Hourly_pay_rate_of_the_last_day_of_employment)\n",
        "\n",
        "  Gross_pay = input(\"Please enter the gross pay $:\")\n",
        "  print('The gross pay is:', Gross_pay)\n",
        "\n",
        "  Net_pay = input(\"Please enter the net pay $:\")\n",
        "  print('The net pay is:',Net_pay)\n",
        "\n",
        "  Entitlements = input(\"Please enter the entitlement $:\")\n",
        "  print('The entitlements is:',Entitlements)\n",
        "\n",
        "  Deductions  = input(\"Please enter the tax payable $:\")\n",
        "  print('The deduction is:',Deductions)\n",
        "\n",
        "  return employee_details\n",
        "\n",
        "print('The payslip details will include:',employee_details(pay_slip=employee_details))"
      ],
      "metadata": {
        "id": "ALSfiYRTpLpA",
        "colab": {
          "base_uri": "https://localhost:8080/"
        },
        "outputId": "a3c99f9b-c27a-4c94-94b3-fd4092713ae0"
      },
      "execution_count": null,
      "outputs": [
        {
          "output_type": "stream",
          "name": "stdout",
          "text": [
            "Please enter the employee's name:Jia Yi\n",
            "The employees name is : Jia Yi\n",
            "Please enter the employer's name:Ms.Rohini\n",
            "The employer name is : Ms.Rohini\n",
            "Please enter the hours worked: 30\n",
            "The hours worked is: 30\n",
            "Please enter the hourly pay $:26\n",
            "The hourly pay is: 26\n",
            "Please enter the ABN:123456\n",
            "The ABN is: 123456\n",
            "Please enter the date of payment:21 August 2022\n",
            "The date of payment is: 21 August 2022\n",
            "Please enter the pay period:1 August 2022\n",
            "The pay period is: 1 August 2022\n",
            "Please enter the annual income:50000\n",
            "The annual income is: 50000\n",
            "Please enter the hourly pay rate of last day of employment:26\n",
            "The houly pay rate of last day employment is: 26\n",
            "Please enter the gross pay $:50000\n",
            "The gross pay is: 50000\n",
            "Please enter the net pay $:48000\n",
            "The net pay is: 48000\n",
            "Please enter the entitlement $:80\n",
            "The entitlements is: 80\n",
            "Please enter the tax payable $:5000\n",
            "The deduction is: 5000\n",
            "The payslip details will include: <function employee_details at 0x7fcfe7d02680>\n"
          ]
        }
      ]
    },
    {
      "cell_type": "code",
      "source": [
        "income = 50000\n",
        "\n",
        "def calculate_tax(income):\n",
        "  if income <= 18200:\n",
        "    tax_payable = 0\n",
        "\n",
        "  elif 18201 < income <= 45000:\n",
        "    tax_payable = 0.19 *(income-18200)\n",
        "    \n",
        "  elif 45001 <= income <= 120000:\n",
        "    tax_payable = 5092 +0.32 *(income-45000)\n",
        "\n",
        "  return tax_payable\n",
        "\n",
        "print('Your tax_payable is: $',calculate_tax(income))"
      ],
      "metadata": {
        "id": "4fQwR6LYyx2_",
        "colab": {
          "base_uri": "https://localhost:8080/"
        },
        "outputId": "c1c4fb43-1892-49b3-9062-69eb7299f5d8"
      },
      "execution_count": null,
      "outputs": [
        {
          "output_type": "stream",
          "name": "stdout",
          "text": [
            "Your tax_payable is: $ 6692.0\n"
          ]
        }
      ]
    }
  ]
}