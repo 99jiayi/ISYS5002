{
  "nbformat": 4,
  "nbformat_minor": 0,
  "metadata": {
    "colab": {
      "name": "Simple Interest Calculator.ipynb",
      "provenance": [],
      "include_colab_link": true
    },
    "kernelspec": {
      "name": "python3",
      "display_name": "Python 3"
    },
    "language_info": {
      "name": "python"
    }
  },
  "cells": [
    {
      "cell_type": "markdown",
      "metadata": {
        "id": "view-in-github",
        "colab_type": "text"
      },
      "source": [
        "<a href=\"https://colab.research.google.com/github/99jiayi/ISYS5002/blob/main/Simple_Interest_Calculator.ipynb\" target=\"_parent\"><img src=\"https://colab.research.google.com/assets/colab-badge.svg\" alt=\"Open In Colab\"/></a>"
      ]
    },
    {
      "cell_type": "markdown",
      "source": [
        "# Simple Interest Calculator\n",
        "\n",
        "The process of problem solving we will use can be broken down into 6 key steps:\n",
        "1. State the problem clearly\n",
        "2. Describe the input and output information\n",
        "3. Work the problem by hand\n",
        "4. Develop an algorithm / pseudocode\n",
        "5. Convert pseudoce to Python program code\n",
        "6. Test solution with a variety of data\n",
        "\n",
        "## Work Flow\n",
        "1. Save to Github\n",
        "2. Analyse problem/requirement & Design the algorithm/pseudocode\n",
        "3. Write and test the program"
      ],
      "metadata": {
        "id": "iGq9-ZTb3VCF"
      }
    },
    {
      "cell_type": "markdown",
      "source": [
        "# Problem/Requirement:\n",
        "\n",
        "Bank ABC wants to calculate their client's loan interest using the simple interest method as explained at https://www.bankrate.com/loans/personal-loans/how-to-calculate-loan-interest/\n",
        "\n",
        "Write a program for bank ABC to compute the loan interest on their client's borrowed amount based on the simple interest method. \n",
        "\n",
        "\n",
        "\n",
        "\n"
      ],
      "metadata": {
        "id": "bhfP5hvE4k7C"
      }
    },
    {
      "cell_type": "markdown",
      "source": [
        "# 1. State Problem Clearly\n",
        "\n",
        "The first step is to state the problem clearly.  It is extremley important to give clear, concise problem statement to avoid any misunderstandings.  For this example, the problem statement is as follows:\n",
        "\n",
        "> Compute the simple interest given all the required values. Then display the calculated simple interest."
      ],
      "metadata": {
        "id": "DSkLjERz3vF4"
      }
    },
    {
      "cell_type": "markdown",
      "source": [
        "# 2. Describe Inputs and Outputs\n",
        "\n",
        "It is used to calculate the interest accrued on a loan or a savings deposit. The program computes simple interest given the the principal amount, rate of interest, and time period while the formula of simple interest method is: (principal amount x interest rate x time)/100."
      ],
      "metadata": {
        "id": "25s3HK5730CD"
      }
    },
    {
      "cell_type": "markdown",
      "source": [
        "# 3. Work the problem by hand - worked example\n",
        "\n",
        "This is a very important step and should not be skipped. Even for simple problem. If you cannot take a simple set of numbers and comput the output then your not ready to move on to the next step. \n",
        "\n",
        "1. Take in the values for principle amount, interest rate and time.\n",
        "2. Using the formula then compute the simple interest.\n",
        "3. Print the value for the computed interest.\n",
        "4. Exit.\n",
        "\n",
        "Let's assume:\n",
        "> amount = $20000 <br>\n",
        "> rate = 5 <br>\n",
        "> time = 4\n",
        "\n",
        "Manually, by hand we compute the simple interest rate\n",
        "\n",
        "> ($20,000 x 5 x 4)/100\n",
        "\n",
        "and the simple interest rate is $4000."
      ],
      "metadata": {
        "id": "6f4dt-ln37HF"
      }
    },
    {
      "cell_type": "markdown",
      "source": [
        "# 4. Develop an Algorithm/Pseudocode"
      ],
      "metadata": {
        "id": "LoEHWS9p4Edn"
      }
    },
    {
      "cell_type": "markdown",
      "source": [
        "Here is my pseudocode code of the Python Program to compute simple interest. \n",
        "> 1. Get the first input data amount <br>\n",
        "> 2. Get the second input data rate <br>\n",
        "> 3. Get the third input data time <br>\n",
        "> 4. Calculate the simple interest rate <br>\n",
        "> 5. Display the simple interest rate"
      ],
      "metadata": {
        "id": "pBknQciS4KeR"
      }
    },
    {
      "cell_type": "markdown",
      "source": [
        "# 5. Convert Pseudocode to Python Code"
      ],
      "metadata": {
        "id": "dtlaNDkf4TZ0"
      }
    },
    {
      "cell_type": "code",
      "execution_count": 22,
      "metadata": {
        "id": "gh53G9xt2_KJ",
        "colab": {
          "base_uri": "https://localhost:8080/"
        },
        "outputId": "982fcfa2-6e0a-41a8-e6b5-e998ad5a1e28"
      },
      "outputs": [
        {
          "output_type": "stream",
          "name": "stdout",
          "text": [
            "Enter the amount:20000\n",
            "Enter the rate:5\n",
            "Enter the time(years):4\n",
            "The simple interest is: $4000.000000\n"
          ]
        }
      ],
      "source": [
        "amount = float(input(\"Enter the amount:\"))\n",
        "rate = float(input(\"Enter the rate:\"))\n",
        "time = int(input(\"Enter the time(years):\"))\n",
        "\n",
        "simple_interest = (amount*rate*time)/100\n",
        "\n",
        "print(\"The simple interest is: $\",format(simple_interest,'2f'),sep='')\n"
      ]
    },
    {
      "cell_type": "markdown",
      "source": [
        "# 6. Test Solution with a variety of data"
      ],
      "metadata": {
        "id": "4gSCYBI74Yf-"
      }
    },
    {
      "cell_type": "code",
      "source": [
        "def Simple_interest(P,R,T):\n",
        "    \n",
        "    print('The principal is', P)\n",
        "    print('The rate of interest is', R)\n",
        "    print('The time period is',T)\n",
        "\n",
        "    Simple_interest = (P * R * T)/100\n",
        "\n",
        "    print('The Simple_Interest is',Simple_interest)\n",
        "\n",
        "    return Simple_interest\n",
        "\n",
        "Simple_interest(1000, 2, 5)"
      ],
      "metadata": {
        "colab": {
          "base_uri": "https://localhost:8080/"
        },
        "id": "biLAOewA7Bci",
        "outputId": "893b8973-2700-4292-9c0e-2ed8a00c2ba8"
      },
      "execution_count": 44,
      "outputs": [
        {
          "output_type": "stream",
          "name": "stdout",
          "text": [
            "The principal is 1000\n",
            "The rate of interest is 2\n",
            "The time period is 5\n",
            "The Simple_Interest is 100.0\n"
          ]
        },
        {
          "output_type": "execute_result",
          "data": {
            "text/plain": [
              "100.0"
            ]
          },
          "metadata": {},
          "execution_count": 44
        }
      ]
    }
  ]
}