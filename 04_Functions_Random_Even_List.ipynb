{
  "nbformat": 4,
  "nbformat_minor": 0,
  "metadata": {
    "colab": {
      "name": "Functions_Random_Even_List.ipynb",
      "provenance": [],
      "collapsed_sections": [],
      "include_colab_link": true
    },
    "kernelspec": {
      "name": "python3",
      "display_name": "Python 3"
    },
    "language_info": {
      "name": "python"
    }
  },
  "cells": [
    {
      "cell_type": "markdown",
      "metadata": {
        "id": "view-in-github",
        "colab_type": "text"
      },
      "source": [
        "<a href=\"https://colab.research.google.com/github/99jiayi/ISYS5002/blob/main/04_Functions_Random_Even_List.ipynb\" target=\"_parent\"><img src=\"https://colab.research.google.com/assets/colab-badge.svg\" alt=\"Open In Colab\"/></a>"
      ]
    },
    {
      "cell_type": "markdown",
      "source": [
        "# Task 1: Generate a list of *ten (10)* random *even* numbers using `while` loop"
      ],
      "metadata": {
        "id": "yoglYJWb3G5p"
      }
    },
    {
      "cell_type": "code",
      "source": [
        "\"\"\"\n",
        "This is a multi-line comments\n",
        "Generates a list of even numbers\n",
        "num -- the number of elements to be generated\n",
        "begin, end -- even numbers generated between specified begin and end range\n",
        "\"\"\"\n",
        "\n",
        "# import random module\n",
        "import random\n",
        "\n",
        "evenlist = []\n",
        "num = 11\n",
        "begin = 10\n",
        "end = 20\n",
        "\n",
        "counter = 0\n",
        "while (counter <= 3):\n",
        "  print(\"Counter is\", counter)\n",
        "\n",
        "  # generate random number \n",
        "  randNum = random.randrange(begin, end) \n",
        "  print(randNum, \" is random number\")\n",
        "\n",
        "  # check if it it even number, if yes, add to list\n",
        "  if randNum % 2 == 0:  \n",
        "    evenlist.append(randNum)\n",
        " counter = counter + 1\n",
        "  print(\"Counter after increment\", counter)\n",
        "\n",
        "# display the even list\n",
        "print(evenlist)\n"
      ],
      "metadata": {
        "id": "XzaS3MJ2AG6U",
        "outputId": "4bfe0adf-ce5b-4372-9f13-34f6be752ef4",
        "colab": {
          "base_uri": "https://localhost:8080/"
        }
      },
      "execution_count": null,
      "outputs": [
        {
          "output_type": "stream",
          "name": "stdout",
          "text": [
            "Counter is 0\n",
            "18  is random number\n",
            "Counter after increment 1\n",
            "Counter is 1\n",
            "15  is random number\n",
            "Counter after increment 2\n",
            "Counter is 2\n",
            "17  is random number\n",
            "Counter after increment 3\n",
            "Counter is 3\n",
            "14  is random number\n",
            "Counter after increment 4\n",
            "[18, 14]\n"
          ]
        }
      ]
    },
    {
      "cell_type": "code",
      "source": [
        "# import random module\n",
        "import random\n",
        "\n",
        "evenlist = []\n",
        "num = 11\n",
        "begin = 10\n",
        "end = 20\n",
        "\n",
        "counter = 1\n",
        "while (counter <= 10):\n",
        "  #print(\"Counter is\", counter)\n",
        "\n",
        "  # generate random number \n",
        "  randNum = random.randrange(begin, end) \n",
        "  #print(randNum, \" is random number\")\n",
        "\n",
        "  # check if it it even number, if yes, add to list\n",
        "  if randNum % 2 == 0:  \n",
        "    evenlist.append(randNum)\n",
        "\n",
        "  counter = counter + 1\n",
        "  #print(\"Counter after increment\", counter)\n",
        "\n",
        "# display the even list\n",
        "print(evenlist)\n"
      ],
      "metadata": {
        "colab": {
          "base_uri": "https://localhost:8080/"
        },
        "id": "PAhBVbO_9tMW",
        "outputId": "9c71867d-b045-4228-900e-c96f958e375a"
      },
      "execution_count": null,
      "outputs": [
        {
          "output_type": "stream",
          "name": "stdout",
          "text": [
            "[18, 16, 16, 18, 14, 10, 14]\n"
          ]
        }
      ]
    },
    {
      "cell_type": "code",
      "source": [
        "# import random module\n",
        "import random\n",
        "\n",
        "evenlist = []\n",
        "begin = 10\n",
        "end = 20\n",
        "\n",
        "counter = 1\n",
        "while (counter <= 10):\n",
        "  #print(\"Counter is\", counter)\n",
        "\n",
        "  # generate random number \n",
        "  randNum = random.randrange(begin, end) \n",
        "  #print(randNum, \" is random number\")\n",
        "\n",
        "  # check if it it even number, if yes, add to list\n",
        "  if randNum % 2 == 0:  \n",
        "    evenlist.append(randNum)\n",
        "    counter = counter + 1\n",
        "    #print(\"Counter after increment\", counter)\n",
        "\n",
        "# display the even list\n",
        "print(evenlist)\n"
      ],
      "metadata": {
        "colab": {
          "base_uri": "https://localhost:8080/"
        },
        "id": "FLNvBoLb-il-",
        "outputId": "6bfe8838-b256-43e0-d3ed-b9ad9dae31b7"
      },
      "execution_count": null,
      "outputs": [
        {
          "output_type": "stream",
          "name": "stdout",
          "text": [
            "[12, 10, 18, 16, 12, 16, 12, 14, 10, 16]\n"
          ]
        }
      ]
    },
    {
      "cell_type": "markdown",
      "source": [
        "### Try with different values"
      ],
      "metadata": {
        "id": "6xYzRb3CClsX"
      }
    },
    {
      "cell_type": "code",
      "source": [
        "# import random module\n",
        "import random\n",
        "\n",
        "evenlist = []\n",
        "#you can delete this, coz we are not using it anywhere in this code\n",
        "begin = 10\n",
        "end = 20\n",
        "\n",
        "counter = 1\n",
        "while (counter <= 5):\n",
        "  #print(\"Counter is\", counter)\n",
        "\n",
        "  # generate random number \n",
        "  randNum = random.randrange(begin, end) \n",
        "  #print(randNum, \" is random number\")\n",
        "\n",
        "  # check if it it even number, if yes, add to list\n",
        "  if randNum % 2 == 0:  \n",
        "    evenlist.append(randNum)\n",
        "    counter = counter + 1\n",
        "    #print(\"Counter after increment\", counter)\n",
        "\n",
        "# display the even list\n",
        "print(evenlist)"
      ],
      "metadata": {
        "id": "8l_PM0vvC3CW",
        "colab": {
          "base_uri": "https://localhost:8080/"
        },
        "outputId": "f6cc4eee-1725-42c5-ca26-19aafcd11ca9"
      },
      "execution_count": null,
      "outputs": [
        {
          "output_type": "stream",
          "name": "stdout",
          "text": [
            "[18, 16, 10, 14, 12]\n"
          ]
        }
      ]
    },
    {
      "cell_type": "markdown",
      "source": [
        "# Task 2: Generalise\n",
        "\n",
        "### Make what we changed as inputs (parameters) to a function"
      ],
      "metadata": {
        "id": "mqAewt8WC3cX"
      }
    },
    {
      "cell_type": "code",
      "source": [
        "def generate_even_list (num, begin, end):\n",
        "  # import random module\n",
        "  import random\n",
        "\n",
        "  evenlist = []\n",
        "  #you can delete this, coz we are not using it anywhere in this code\n",
        "  #begin = 15\n",
        "  #end = 55\n",
        "\n",
        "  counter = 1\n",
        "  while (counter <= num):\n",
        "    #print(\"Counter is\", counter)\n",
        "\n",
        "    # generate random number \n",
        "    randNum = random.randrange(begin, end) \n",
        "    #print(randNum, \" is random number\")\n",
        "\n",
        "    # check if it it even number, if yes, add to list\n",
        "    if randNum % 2 == 0:  \n",
        "      evenlist.append(randNum)\n",
        "      counter = counter + 1\n",
        "      #print(\"Counter after increment\", counter)\n",
        "\n",
        "    # display the even list\n",
        "  print(evenlist)"
      ],
      "metadata": {
        "id": "f3gFrgLoBfgF"
      },
      "execution_count": null,
      "outputs": []
    },
    {
      "cell_type": "code",
      "source": [
        "generate_even_list(15, 100, 150)"
      ],
      "metadata": {
        "colab": {
          "base_uri": "https://localhost:8080/"
        },
        "id": "cDDm0ohlDypc",
        "outputId": "98c34a5d-a4d3-4554-8956-a6a780d6a928"
      },
      "execution_count": null,
      "outputs": [
        {
          "output_type": "stream",
          "name": "stdout",
          "text": [
            "[138, 112, 104, 128, 102, 102, 134, 146, 134, 126, 108, 144, 110, 116, 104]\n"
          ]
        }
      ]
    },
    {
      "cell_type": "markdown",
      "source": [
        "# Docstrings\n",
        "\n",
        "A docstring is a string literal that occurs as the first statement in a function, module, class, or method definition. \n",
        "\n",
        "Docstring encased in triple `\"\"\"` quotes.\n",
        "\n",
        "Docstrings are used to describe a function. \n",
        " - what a function does, \n",
        " - the number of arguments it takes\n",
        " - the type of object it returns, etc\n",
        "\n",
        "https://peps.python.org/pep-0257/#what-is-a-docstring"
      ],
      "metadata": {
        "id": "-vluWzf0aJDF"
      }
    },
    {
      "cell_type": "code",
      "source": [
        "def add_number(a,b):\n",
        "  '''Takes two parameters \n",
        "      Return sum.\n",
        "  '''\n",
        "  return a + b\n",
        "\n",
        "print(add_number(5,10))\n",
        "print(add_number.__doc__)"
      ],
      "metadata": {
        "id": "oCq3n9_5Cawu",
        "colab": {
          "base_uri": "https://localhost:8080/"
        },
        "outputId": "59520a45-5077-4118-b2e9-38630dbbef33"
      },
      "execution_count": null,
      "outputs": [
        {
          "output_type": "stream",
          "name": "stdout",
          "text": [
            "15\n",
            "Takes two parameters \n",
            "      Return sum.\n",
            "  \n"
          ]
        }
      ]
    },
    {
      "cell_type": "code",
      "source": [
        "def square(n):\n",
        "  '''Takes in a number n\n",
        "      Return the square of n.\n",
        "  '''\n",
        "\n",
        "print(square(100))\n",
        "print(square.__doc__)"
      ],
      "metadata": {
        "colab": {
          "base_uri": "https://localhost:8080/"
        },
        "id": "_CYQ8Q9HvUVY",
        "outputId": "bd9ebd45-c347-4606-8c89-95fc8ddb6d65"
      },
      "execution_count": null,
      "outputs": [
        {
          "output_type": "stream",
          "name": "stdout",
          "text": [
            "None\n",
            "Takes in a number n\n",
            "      Return the square of n.\n",
            "  \n"
          ]
        }
      ]
    },
    {
      "cell_type": "markdown",
      "source": [
        "# Task 3 (Optional): Write a function that takes a list as an argument and generate two lists, even list and odd list.\n",
        "\n",
        "### *Try with `for` loop*"
      ],
      "metadata": {
        "id": "8Tx-b-9EHOpH"
      }
    },
    {
      "cell_type": "code",
      "source": [
        "def get_odd_numbers(numbers):\n",
        "  odd_numbers =[]\n",
        "\n",
        "  for number in numbers:\n",
        "      if number % 2 == 1:\n",
        "        odd_numbers.append(number)\n",
        "    \n",
        "  return odd_numbers"
      ],
      "metadata": {
        "id": "lvQDKMHNHPxe"
      },
      "execution_count": null,
      "outputs": []
    },
    {
      "cell_type": "code",
      "source": [
        "numbers = [2,7,18,30,55,63,70,84,91,98,105]\n",
        "print(get_odd_numbers(numbers))"
      ],
      "metadata": {
        "colab": {
          "base_uri": "https://localhost:8080/"
        },
        "id": "lH4uTMB5-MZ0",
        "outputId": "e9173673-c4ec-45ed-e539-defb03ac61b3"
      },
      "execution_count": null,
      "outputs": [
        {
          "output_type": "stream",
          "name": "stdout",
          "text": [
            "[7, 55, 63, 91, 105]\n"
          ]
        }
      ]
    },
    {
      "cell_type": "code",
      "source": [
        "def get_even_list(numbers):\n",
        "  even_numbers =[]\n",
        "\n",
        "  for number in numbers:\n",
        "    if number % 2 == 0:\n",
        "      even_numbers.append(number)\n",
        "\n",
        "  return even_numbers"
      ],
      "metadata": {
        "id": "7pRcDaj0AABo"
      },
      "execution_count": null,
      "outputs": []
    },
    {
      "cell_type": "code",
      "source": [
        "numbers = [2,7,18,30,55,63,70,84,91,98,105]\n",
        "print(get_even_list(numbers))"
      ],
      "metadata": {
        "colab": {
          "base_uri": "https://localhost:8080/"
        },
        "id": "0tUG-A6SAiyy",
        "outputId": "f73cc858-de82-4484-e280-b252713da73d"
      },
      "execution_count": null,
      "outputs": [
        {
          "output_type": "stream",
          "name": "stdout",
          "text": [
            "[2, 18, 30, 70, 84, 98]\n"
          ]
        }
      ]
    },
    {
      "cell_type": "code",
      "source": [
        "def split_list_even_odd(numbers):\n",
        "  odd_numbers =[number for number in numbers if number % 2 ==1]\n",
        "  even_numbers =[number for number in numbers if number % 2 ==0]\n",
        "\n",
        "  return odd_numbers, even_numbers"
      ],
      "metadata": {
        "id": "j5XTe0bo3cAX"
      },
      "execution_count": null,
      "outputs": []
    },
    {
      "cell_type": "code",
      "source": [
        "numbers = [3,8,15,28,44,50,88,100]\n",
        "print(split_list_even_odd(numbers))"
      ],
      "metadata": {
        "colab": {
          "base_uri": "https://localhost:8080/"
        },
        "id": "zu1vX68L9tsl",
        "outputId": "c95b055e-08ad-4825-c599-0e4a00c3aaca"
      },
      "execution_count": null,
      "outputs": [
        {
          "output_type": "stream",
          "name": "stdout",
          "text": [
            "([3, 15], [8, 28, 44, 50, 88, 100])\n"
          ]
        }
      ]
    }
  ]
}