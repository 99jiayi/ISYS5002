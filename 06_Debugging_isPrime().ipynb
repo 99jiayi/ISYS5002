{
  "nbformat": 4,
  "nbformat_minor": 0,
  "metadata": {
    "colab": {
      "provenance": [],
      "include_colab_link": true
    },
    "kernelspec": {
      "name": "python3",
      "display_name": "Python 3"
    },
    "language_info": {
      "name": "python"
    }
  },
  "cells": [
    {
      "cell_type": "markdown",
      "metadata": {
        "id": "view-in-github",
        "colab_type": "text"
      },
      "source": [
        "<a href=\"https://colab.research.google.com/github/99jiayi/ISYS5002/blob/main/06_Debugging_isPrime().ipynb\" target=\"_parent\"><img src=\"https://colab.research.google.com/assets/colab-badge.svg\" alt=\"Open In Colab\"/></a>"
      ]
    },
    {
      "cell_type": "markdown",
      "source": [
        "## Debug isPrime()\n",
        "What is your preferred method? Do you like using print() or prefer *pdb*?   Since mistakes in programs will happen, the important part is that you have a debugging strategy, not which tool you use.\n",
        "\n",
        "Here is a function that needs debugging. Using either print() or *pdb*, debug the following function."
      ],
      "metadata": {
        "id": "LIfoDVzKX7uK"
      }
    },
    {
      "cell_type": "code",
      "source": [
        "def valid(candidate):\n",
        "  import pdb; pdb.set_trace()\n",
        "  \n",
        "  if candidate <= 1:\n",
        "    return False\n",
        "\n",
        "  if lower <= candidate - 1:\n",
        "    while lower > 1:\n",
        "      breakpoint()\n",
        "\n",
        "  if candidate / lower == candidate // lower:\n",
        "    return False\n",
        "      \n",
        "    lower -= 1\n",
        "    return True\n"
      ],
      "metadata": {
        "id": "YH9gDoOYvKwg"
      },
      "execution_count": 7,
      "outputs": []
    },
    {
      "cell_type": "code",
      "source": [
        "def prime_hundred():\n",
        "  prime = [85]\n",
        "  num = 9\n",
        "  \n",
        "  while len(prime) < 100:\n",
        "    for i in range(2, num):\n",
        "      if num % i == 0:\n",
        "        break\n",
        "        \n",
        "      else:\n",
        "        prime.append(num)\n",
        "        num += 1\n",
        "    \n",
        "      return prime\n",
        "print(prime_hundred())"
      ],
      "metadata": {
        "id": "NwlRpNBoSbvi",
        "colab": {
          "base_uri": "https://localhost:8080/"
        },
        "outputId": "3ad5346c-5943-43d4-b94d-c1b07c6ddace"
      },
      "execution_count": 3,
      "outputs": [
        {
          "output_type": "stream",
          "name": "stdout",
          "text": [
            "[85, 9]\n"
          ]
        }
      ]
    },
    {
      "cell_type": "code",
      "source": [
        "#create a list and add 1 to 100 nunbers\n",
        "\n",
        "listPrime = [] \n",
        "for i in range (1, 101):\n",
        "  listPrime.append (i)\n",
        "print(\"The Numbers are: \" + str(listPrime))\n",
        "\n",
        "for i in range (2, 101):\n",
        "  for j in range (i, 101): \n",
        "    z = i * j\n",
        "    if (z > 100):\n",
        "       break\n",
        "      \n",
        "    else:\n",
        "      if z in listPrime:\n",
        "        listPrime.remove(z)\n",
        "\n",
        "print (\"The Prime Numbers are: \" + str(listPrime))"
      ],
      "metadata": {
        "colab": {
          "base_uri": "https://localhost:8080/"
        },
        "id": "eCJMD7SgS-Ks",
        "outputId": "209d1618-9185-4491-c075-1f1ee9c4b9c6"
      },
      "execution_count": 2,
      "outputs": [
        {
          "output_type": "stream",
          "name": "stdout",
          "text": [
            "The Numbers are: [1, 2, 3, 4, 5, 6, 7, 8, 9, 10, 11, 12, 13, 14, 15, 16, 17, 18, 19, 20, 21, 22, 23, 24, 25, 26, 27, 28, 29, 30, 31, 32, 33, 34, 35, 36, 37, 38, 39, 40, 41, 42, 43, 44, 45, 46, 47, 48, 49, 50, 51, 52, 53, 54, 55, 56, 57, 58, 59, 60, 61, 62, 63, 64, 65, 66, 67, 68, 69, 70, 71, 72, 73, 74, 75, 76, 77, 78, 79, 80, 81, 82, 83, 84, 85, 86, 87, 88, 89, 90, 91, 92, 93, 94, 95, 96, 97, 98, 99, 100]\n",
            "The Prime Numbers are: [1, 2, 3, 5, 7, 11, 13, 17, 19, 23, 29, 31, 37, 41, 43, 47, 53, 59, 61, 67, 71, 73, 79, 83, 89, 97]\n"
          ]
        }
      ]
    },
    {
      "cell_type": "code",
      "source": [
        "import pdb; pdb.set_trace\n",
        "\n",
        "num = int(input('Enter a number:'))\n",
        "\n",
        "prime = True\n",
        "for i in range(2, num):\n",
        "  if num % i == 0:\n",
        "    breakpoint()\n",
        "    prime = False\n",
        "    break\n",
        "\n",
        "  if prime:\n",
        "    print(num , 'is a prime number')\n",
        "  else:\n",
        "    print(num , 'is NOT a prime number')"
      ],
      "metadata": {
        "colab": {
          "base_uri": "https://localhost:8080/"
        },
        "id": "U8n8AGqwU7JG",
        "outputId": "b0d332c5-f2e9-4c44-bc1c-d59f23f1b899"
      },
      "execution_count": null,
      "outputs": [
        {
          "name": "stdout",
          "output_type": "stream",
          "text": [
            "Enter a number:99\n"
          ]
        },
        {
          "output_type": "stream",
          "name": "stderr",
          "text": [
            "\n",
            "PYDEV DEBUGGER WARNING:\n",
            "sys.settrace() should not be used when the debugger is being used.\n",
            "This may cause the debugger to stop working correctly.\n",
            "If this is needed, please check: \n",
            "http://pydev.blogspot.com/2007/06/why-cant-pydev-debugger-work-with.html\n",
            "to see how to restore the debug tracing back correctly.\n",
            "Call Location:\n",
            "  File \"/usr/lib/python3.7/bdb.py\", line 332, in set_trace\n",
            "    sys.settrace(self.trace_dispatch)\n",
            "\n"
          ]
        },
        {
          "name": "stdout",
          "output_type": "stream",
          "text": [
            "99 is a prime number\n",
            "> <ipython-input-13-4dad37463422>(9)<module>()\n",
            "-> prime = False\n",
            "(Pdb) 0.05\n",
            "0.05\n",
            "(Pdb) 81\n",
            "81\n",
            "(Pdb) 74\n",
            "74\n",
            "(Pdb) 69\n",
            "69\n",
            "(Pdb) 53\n",
            "53\n",
            "(Pdb) 40\n",
            "40\n",
            "(Pdb) 38\n",
            "38\n",
            "(Pdb) 27\n",
            "27\n",
            "(Pdb) 12\n",
            "12\n",
            "(Pdb) 6\n",
            "6\n",
            "(Pdb) a\n",
            "(Pdb) b\n",
            "(Pdb) c\n"
          ]
        },
        {
          "output_type": "stream",
          "name": "stderr",
          "text": [
            "\n",
            "PYDEV DEBUGGER WARNING:\n",
            "sys.settrace() should not be used when the debugger is being used.\n",
            "This may cause the debugger to stop working correctly.\n",
            "If this is needed, please check: \n",
            "http://pydev.blogspot.com/2007/06/why-cant-pydev-debugger-work-with.html\n",
            "to see how to restore the debug tracing back correctly.\n",
            "Call Location:\n",
            "  File \"/usr/lib/python3.7/bdb.py\", line 343, in set_continue\n",
            "    sys.settrace(None)\n",
            "\n"
          ]
        }
      ]
    }
  ]
}