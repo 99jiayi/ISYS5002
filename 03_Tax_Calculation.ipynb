{
  "nbformat": 4,
  "nbformat_minor": 0,
  "metadata": {
    "colab": {
      "name": "Tax Calculation.ipynb",
      "provenance": [],
      "include_colab_link": true
    },
    "kernelspec": {
      "name": "python3",
      "display_name": "Python 3"
    },
    "language_info": {
      "name": "python"
    }
  },
  "cells": [
    {
      "cell_type": "markdown",
      "metadata": {
        "id": "view-in-github",
        "colab_type": "text"
      },
      "source": [
        "<a href=\"https://colab.research.google.com/github/99jiayi/ISYS5002/blob/main/03_Tax_Calculation.ipynb\" target=\"_parent\"><img src=\"https://colab.research.google.com/assets/colab-badge.svg\" alt=\"Open In Colab\"/></a>"
      ]
    },
    {
      "cell_type": "markdown",
      "metadata": {
        "id": "bVMwNyExqHgH"
      },
      "source": [
        "# Tax Calculation\n",
        "\n",
        "Write a program the prompts the user for their income and calculates the \n",
        "tax payable based on the Australian Tax Office [Resident tax rates 2021–22\n",
        "Taxable income](https://www.ato.gov.au/rates/individual-income-tax-rates/)\n",
        "\n",
        "Income            | Tax on this income \n",
        "------------------|----------------------\n",
        "0 – \\$18,200       | Nil\n",
        "\\$18,201 – \\$45,000 | 19 cents for each \\$1 over \\$18,200\n",
        "\\$45,001 – \\$120,000 | \\$5,092 plus 32.5 cents for each \\$1 over \\$45,000\n",
        "\\$120,001 – \\$180,000 |  \\$29,467 plus 37 cents for each \\$1 over \\$120,000\n",
        "\\$180,001 and over | \\$51,667 plus 45 cents for each \\$1 over \\$180,000\n",
        "\n",
        "## Task 0 - Import notebook to GitHub\n",
        "\n",
        "First, import the notebook into Colab and save an initial copy to GitHub."
      ]
    },
    {
      "cell_type": "markdown",
      "source": [
        "# Task 1: Analyse the requirement and Design a solution\n",
        "\n",
        "Following the 6-steps problem solving process, when you analyse the requiremnts and design the solution, you will end up with an algorithm/pseudocode \n",
        "\n",
        "1. State the problem clearly\n",
        "2. Describe the input and output information\n",
        "3. Work the problem by hand\n",
        "4. Develop an algorithm / pseudocode\n",
        "\n",
        "\n",
        "\n",
        "\n"
      ],
      "metadata": {
        "id": "HgnNYcBrEOKa"
      }
    },
    {
      "cell_type": "markdown",
      "source": [
        "INPUT: Get income/salary from the user <br>\n",
        "OUTPUT: Output tax payable\n",
        "\n",
        "Algorithm / Pseudocode <br>\n",
        "  1.Get income/salary from the user <br>\n",
        "  2.Output tax payable <br>\n",
        "\n",
        "Processing: <br>\n",
        "If income is less than 18200, then no tax applied <br>\n",
        "If income is between 18201 and 45000 then (income - 18200) x 0.19 <br>\n",
        "If income is between 45001 and 120000 then [(income - 45000) x 0.325] + 5092 <br>\n",
        "If income is between 120001 and 180000 then [(income - 120000) x 0.37] + 29467 <br>\n",
        "If income is between 180001 and over then [(income - 180000) x 0.45] + 51667 <br>\n",
        "\n",
        "Example: <br>\n",
        "if income = 18000 --> tax = 0 <br>\n",
        "if income = 19000 --> tax = (19000 - 18200) x 0.19 = 152 <br>\n",
        "if income = 50000 --> tax = [(50000 - 45000) x 0.325] + 5092 = 6717"
      ],
      "metadata": {
        "id": "OZijiHhdHSxd"
      }
    },
    {
      "cell_type": "markdown",
      "source": [
        "# Task 2: Step 5 - Convert the pseudocode to Python Code"
      ],
      "metadata": {
        "id": "Gqexk_N7F0mb"
      }
    },
    {
      "cell_type": "code",
      "source": [
        "#prompt user for input and then convert the input typed by the user to int data type,because\n",
        "#the input typed by user always comes in as string, so we need to convert the input from user to integer\n",
        "#if we want to perform some numeric computation on it.\n",
        "\n",
        "income = int(input(\"Please enter the yearly income:\"))\n",
        "print(\"The yearly income is\",income)\n",
        "\n",
        "if income < 18200:\n",
        "  tax_payable = ('no tax payable')\n",
        "  print(\"The tax payable is:\",tax_payable)\n",
        "\n",
        "elif 18201 <= income <= 45000:\n",
        "  tax_payable = (income - 18200)*0.19\n",
        "  print(\"The tax payable is:\",tax_payable)\n",
        "\n",
        "elif 45001 <= income <= 120000:\n",
        "  tax_payable = ((income - 45000)*0.325) + 5092\n",
        "  print(\"The tax payable is:\",tax_payable)\n",
        "\n",
        "elif 120001 <= income <= 180000:\n",
        "  tax_payable = ((income - 120000)*0.37) + 29467\n",
        "  print(\"The tax payable is:\",tax_payable)\n",
        "\n",
        "else:\n",
        "  income > 180000\n",
        "  tax_payable = ((income - 180000)*0.45) + 51667\n",
        "  print(\"The tax payable is:\",tax_payable)"
      ],
      "metadata": {
        "id": "kuwq-dEPF6Xi",
        "colab": {
          "base_uri": "https://localhost:8080/"
        },
        "outputId": "6ed2c2aa-bfca-4c53-ec03-3f6bd0a97654"
      },
      "execution_count": null,
      "outputs": [
        {
          "output_type": "stream",
          "name": "stdout",
          "text": [
            "Please enter the yearly income:88000\n",
            "The yearly income is 88000\n",
            "The tax payable is: 19067.0\n"
          ]
        }
      ]
    },
    {
      "cell_type": "code",
      "source": [
        "income = int(input(\"Please enter the yearly income:\"))\n",
        "print(\"The yearly income is\",income)\n",
        "\n",
        "if income < 18200:\n",
        "  tax_payable = ('no tax payable')\n",
        "  print(\"The tax payable is:\",tax_payable)\n",
        "\n",
        "elif 18201 <= income <= 45000:\n",
        "  tax_payable = (income - 18200)*0.19\n",
        "  print(\"The tax payable is:\",tax_payable)\n",
        "\n",
        "elif 45001 <= income <= 120000:\n",
        "  tax_payable = ((income - 45000)*0.325) + 5092\n",
        "  print(\"The tax payable is:\",tax_payable)\n",
        "\n",
        "elif 120001 <= income <= 180000:\n",
        "  tax_payable = ((income - 120000)*0.37) + 29467\n",
        "  print(\"The tax payable is:\",tax_payable)\n",
        "\n",
        "else:\n",
        "  income > 180000\n",
        "  tax_payable = ((income - 180000)*0.45) + 51667\n",
        "  print(\"The tax payable is:\",tax_payable)"
      ],
      "metadata": {
        "id": "scGeO2kfHRgd",
        "colab": {
          "base_uri": "https://localhost:8080/"
        },
        "outputId": "26e53c76-6767-4545-f656-32a0b0b9c80f"
      },
      "execution_count": null,
      "outputs": [
        {
          "output_type": "stream",
          "name": "stdout",
          "text": [
            "Please enter the yearly income:30000\n",
            "The yearly income is 30000\n",
            "The tax payable is: 2242.0\n"
          ]
        }
      ]
    },
    {
      "cell_type": "markdown",
      "source": [
        "# Task 3: Step 6 - Test solution with a variety of data"
      ],
      "metadata": {
        "id": "tSe9XLLuF632"
      }
    },
    {
      "cell_type": "code",
      "source": [
        "income = int(input(\"Please enter the yearly income:\"))\n",
        "\n",
        "if income < 18200:\n",
        "  tax_payable = ('no tax payable')\n",
        "  print(\"The yearly income is:\", income, \"The tax payable is:\",tax_payable)\n",
        "\n",
        "elif 18201 <= income <= 45000:\n",
        "  tax_payable = (income - 18200)*0.19\n",
        "  print(\"The yearly income is:\", income, \"The tax payable is:\",tax_payable)\n",
        "elif 45001 <= income <= 120000:\n",
        "  tax_payable = ((income - 45000)*0.325) + 5092\n",
        "  print(\"The yearly income is:\", income, \"The tax payable is:\",tax_payable)\n",
        "\n",
        "elif 120001 <= income <= 180000:\n",
        "  tax_payable = ((income - 120000)*0.37) + 29467\n",
        "  print(\"The yearly income is:\", income, \"The tax payable is:\",tax_payable)\n",
        "\n",
        "else:\n",
        "  income > 180000\n",
        "  tax_payable = ((income - 180000)*0.45) + 51667\n",
        "  print(\"The yearly income is:\", income, \"The tax payable is:\",tax_payable)"
      ],
      "metadata": {
        "id": "Fte4zuiXHRQA",
        "colab": {
          "base_uri": "https://localhost:8080/"
        },
        "outputId": "8961a674-7809-4dce-dcd5-93dce5ba1b89"
      },
      "execution_count": null,
      "outputs": [
        {
          "output_type": "stream",
          "name": "stdout",
          "text": [
            "Please enter the yearly income:18000\n",
            "The yearly income is: 18000 The tax payable is: no tax payable\n"
          ]
        }
      ]
    },
    {
      "cell_type": "code",
      "source": [
        "income = int(input(\"Please enter the yearly income:\"))\n",
        "\n",
        "if income < 18200:\n",
        "  tax_payable = ('no tax payable')\n",
        "  print(\"The yearly income is:\", income, \"The tax payable is:\",tax_payable)\n",
        "\n",
        "elif 18201 <= income <= 45000:\n",
        "  tax_payable = (income - 18200)*0.19\n",
        "  print(\"The yearly income is:\", income, \"The tax payable is:\",tax_payable)\n",
        "elif 45001 <= income <= 120000:\n",
        "  tax_payable = ((income - 45000)*0.325) + 5092\n",
        "  print(\"The yearly income is:\", income, \"The tax payable is:\",tax_payable)\n",
        "\n",
        "elif 120001 <= income <= 180000:\n",
        "  tax_payable = ((income - 120000)*0.37) + 29467\n",
        "  print(\"The yearly income is:\", income, \"The tax payable is:\",tax_payable)\n",
        "\n",
        "else:\n",
        "  income > 180000\n",
        "  tax_payable = ((income - 180000)*0.45) + 51667\n",
        "  print(\"The yearly income is:\", income, \"The tax payable is:\",tax_payable)"
      ],
      "metadata": {
        "id": "3SOY4Z1RHQ-R",
        "colab": {
          "base_uri": "https://localhost:8080/"
        },
        "outputId": "13fd8def-1cbc-49b2-fccd-c2ce9417f032"
      },
      "execution_count": null,
      "outputs": [
        {
          "output_type": "stream",
          "name": "stdout",
          "text": [
            "Please enter the yearly income:150000\n",
            "The yearly income is: 150000 The tax payable is: 40567.0\n"
          ]
        }
      ]
    },
    {
      "cell_type": "markdown",
      "source": [
        "# Task 4: Homework submission\n",
        "\n",
        "Write a program to print out a payslip for hourly paid employees. <br>\n",
        "Refer to last week's Gross Pay work.\n",
        "\n",
        "[What has to be on a pay slip?](https://www.fairwork.gov.au/pay-and-wages/paying-wages/pay-slips#what-has-to-be-on-a-pay-slip)\n",
        "\n",
        "[Resident tax rates 2022–23](https://www.ato.gov.au/rates/individual-income-tax-rates/)"
      ],
      "metadata": {
        "id": "FGccPDhDGHgF"
      }
    }
  ]
}