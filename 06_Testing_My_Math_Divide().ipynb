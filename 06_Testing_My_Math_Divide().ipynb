{
  "nbformat": 4,
  "nbformat_minor": 0,
  "metadata": {
    "colab": {
      "provenance": [],
      "include_colab_link": true
    },
    "kernelspec": {
      "name": "python3",
      "display_name": "Python 3"
    },
    "language_info": {
      "name": "python"
    }
  },
  "cells": [
    {
      "cell_type": "markdown",
      "metadata": {
        "id": "view-in-github",
        "colab_type": "text"
      },
      "source": [
        "<a href=\"https://colab.research.google.com/github/99jiayi/ISYS5002/blob/main/06_Testing_My_Math_Divide().ipynb\" target=\"_parent\"><img src=\"https://colab.research.google.com/assets/colab-badge.svg\" alt=\"Open In Colab\"/></a>"
      ]
    },
    {
      "cell_type": "markdown",
      "source": [
        "## Testing  my_math.divide()\n",
        "\n",
        "What is your preferred testing strategy? Do you like using the assert statement or prefer doctest?  \n",
        "\n",
        "Using your preferred testing strategy, develop a test table and test the following funciton.  Where required update the function so all test behave as expected.\n",
        "\n",
        "\n",
        "## Function to test"
      ],
      "metadata": {
        "id": "LIfoDVzKX7uK"
      }
    },
    {
      "cell_type": "code",
      "source": [
        "def divide(x, y):\n",
        "    '''Divide first by second number'''\n",
        "    return x / y"
      ],
      "metadata": {
        "id": "YH9gDoOYvKwg"
      },
      "execution_count": 93,
      "outputs": []
    },
    {
      "cell_type": "markdown",
      "source": [
        "## Test Table\n",
        "\n",
        "List you test cases here."
      ],
      "metadata": {
        "id": "JYSZ-53nLF6n"
      }
    },
    {
      "cell_type": "code",
      "source": [
        "import my_math \n",
        "\n",
        "print(my_math.divide(100,25))"
      ],
      "metadata": {
        "id": "DMTITEmbLE_Z",
        "colab": {
          "base_uri": "https://localhost:8080/"
        },
        "outputId": "7f976a56-1771-485f-fcf0-36888c1dc28b"
      },
      "execution_count": 91,
      "outputs": [
        {
          "output_type": "stream",
          "name": "stdout",
          "text": [
            "4.0\n"
          ]
        }
      ]
    },
    {
      "cell_type": "code",
      "source": [
        "def divide(x, y):\n",
        "    return x / y\n",
        "num1 = 88\n",
        "num2 = 3.5\n",
        "print(divide(num1,num2))"
      ],
      "metadata": {
        "colab": {
          "base_uri": "https://localhost:8080/"
        },
        "id": "S5kNEB7Y3Tnz",
        "outputId": "b952fe43-4b79-4ebf-daf9-67a8b28aca58"
      },
      "execution_count": 92,
      "outputs": [
        {
          "output_type": "stream",
          "name": "stdout",
          "text": [
            "25.142857142857142\n"
          ]
        }
      ]
    },
    {
      "cell_type": "code",
      "source": [
        "import doctest\n",
        "\n",
        "def divide(a, b):\n",
        "    \"\"\"\n",
        "  >>> divide(8, 4)\n",
        "    2\n",
        "  >>> divide(-12, 3)\n",
        "    -4\n",
        "  >>> divide(4, 0)\n",
        "    \"Denominator can't be zero\"\n",
        "    \"\"\"\n",
        "    try:\n",
        "      result = a//b\n",
        "    except ZeroDivisionError:\n",
        "      result = \"Denominator can't be zero\"\n",
        "\n",
        "    return result"
      ],
      "metadata": {
        "id": "v5i_0YGY4F7r"
      },
      "execution_count": 98,
      "outputs": []
    },
    {
      "cell_type": "code",
      "source": [
        "doctest.testmod()"
      ],
      "metadata": {
        "colab": {
          "base_uri": "https://localhost:8080/"
        },
        "id": "6xU4HzeAAP5K",
        "outputId": "60cacace-d6c1-4631-b88d-d7fe92433f38"
      },
      "execution_count": 99,
      "outputs": [
        {
          "output_type": "stream",
          "name": "stdout",
          "text": [
            "**********************************************************************\n",
            "File \"__main__\", line 5, in __main__.divide\n",
            "Failed example:\n",
            "    divide(8, 4)\n",
            "Expected:\n",
            "      2\n",
            "Got:\n",
            "    2\n",
            "**********************************************************************\n",
            "File \"__main__\", line 7, in __main__.divide\n",
            "Failed example:\n",
            "    divide(-12, 3)\n",
            "Expected:\n",
            "      -4\n",
            "Got:\n",
            "    -4\n",
            "**********************************************************************\n",
            "File \"__main__\", line 9, in __main__.divide\n",
            "Failed example:\n",
            "    divide(4, 0)\n",
            "Expected:\n",
            "      \"Denominator can't be zero\"\n",
            "Got:\n",
            "    \"Denominator can't be zero\"\n",
            "**********************************************************************\n",
            "1 items had failures:\n",
            "   3 of   3 in __main__.divide\n",
            "***Test Failed*** 3 failures.\n"
          ]
        },
        {
          "output_type": "execute_result",
          "data": {
            "text/plain": [
              "TestResults(failed=3, attempted=3)"
            ]
          },
          "metadata": {},
          "execution_count": 99
        }
      ]
    },
    {
      "cell_type": "code",
      "source": [
        "def divide(a, b):\n",
        "  \"\"\"\n",
        "  >>> divide(20, 5)\n",
        "    4\n",
        "  >>> divide(2, 2)\n",
        "    1\n",
        "  >>> divide(8, 7)\n",
        "    56\n",
        "    \"Denominator can't be zero\"\n",
        "    \"\"\"\n",
        "  try:\n",
        "    result = a//b\n",
        "  except ZeroDivisionError:\n",
        "    result = \"Denominator can't be zero\"\n",
        "\n",
        "  return result\n",
        "\n",
        "doctest.testmod()"
      ],
      "metadata": {
        "colab": {
          "base_uri": "https://localhost:8080/"
        },
        "id": "nonQZ3jeATqr",
        "outputId": "a2e96d4b-a48d-4345-fa8b-8be6f2d7b31e"
      },
      "execution_count": 103,
      "outputs": [
        {
          "output_type": "stream",
          "name": "stdout",
          "text": [
            "**********************************************************************\n",
            "File \"__main__\", line 3, in __main__.divide\n",
            "Failed example:\n",
            "    divide(20, 5)\n",
            "Expected:\n",
            "      4\n",
            "Got:\n",
            "    4\n",
            "**********************************************************************\n",
            "File \"__main__\", line 5, in __main__.divide\n",
            "Failed example:\n",
            "    divide(2, 2)\n",
            "Expected:\n",
            "      1\n",
            "Got:\n",
            "    1\n",
            "**********************************************************************\n",
            "File \"__main__\", line 7, in __main__.divide\n",
            "Failed example:\n",
            "    divide(8, 7)\n",
            "Expected:\n",
            "      56\n",
            "      \"Denominator can't be zero\"\n",
            "Got:\n",
            "    1\n",
            "**********************************************************************\n",
            "1 items had failures:\n",
            "   3 of   3 in __main__.divide\n",
            "***Test Failed*** 3 failures.\n"
          ]
        },
        {
          "output_type": "execute_result",
          "data": {
            "text/plain": [
              "TestResults(failed=3, attempted=3)"
            ]
          },
          "metadata": {},
          "execution_count": 103
        }
      ]
    },
    {
      "cell_type": "code",
      "source": [
        "a = 1200\n",
        "b = 35\n",
        "\n",
        "def test_divide():\n",
        "  value = divide(a, b)\n",
        "  assert value == 34.2857"
      ],
      "metadata": {
        "id": "6azDfrmioGIL"
      },
      "execution_count": 104,
      "outputs": []
    },
    {
      "cell_type": "code",
      "source": [
        ">>> def div(p,q):\n",
        "  try:\n",
        "    assert q!=0, \"You cannot divide a number by zero\\nPlease try again\"\n",
        "    return p/q\n",
        "  \n",
        "  except:\n",
        "    print(\"So you tried to divide by 0. Please try again\")\n",
        ">>> div(8,0)"
      ],
      "metadata": {
        "colab": {
          "base_uri": "https://localhost:8080/"
        },
        "id": "JehIsQQkox16",
        "outputId": "1197963b-d0dc-484f-ace4-e0fb0cf465f0"
      },
      "execution_count": 105,
      "outputs": [
        {
          "output_type": "stream",
          "name": "stdout",
          "text": [
            "So you tried to divide by 0. Please try again\n"
          ]
        }
      ]
    },
    {
      "cell_type": "code",
      "source": [
        "def div(p,q):\n",
        "  while div(100,20):\n",
        "    assert q!=10\n",
        "    return p/q\n",
        "\n",
        "  print(\"The division is:\",div(p,q))\n",
        "  print(div(p,q))"
      ],
      "metadata": {
        "id": "3QIxpA6TwRVa"
      },
      "execution_count": 106,
      "outputs": []
    },
    {
      "cell_type": "code",
      "source": [
        "def testDivide():\n",
        "    assert (calculator.divide(-1,-7) == 1/7)\n",
        "    assert (calculator.divide(-8,3) == -8/3)\n",
        "    assert (calculator.divide(8,3) == 8/3)\n",
        "    assert (calculator.divide(0,3) == 0)\n",
        "    try:\n",
        "        calculator.divide(5,0)\n",
        "    except Exception as err:\n",
        "        assert (str(err) == 'I\\'m sorry, I can\\'t divide by zero')"
      ],
      "metadata": {
        "id": "TkaviHCbxopT"
      },
      "execution_count": 107,
      "outputs": []
    },
    {
      "cell_type": "code",
      "source": [
        "def test_ZeroDivisionError(self):\n",
        "  with self.assertRaises(ZeroDivisionError):\n",
        "    calculator.divide(10,0)  "
      ],
      "metadata": {
        "id": "ANh4qRH0ya6Z"
      },
      "execution_count": 108,
      "outputs": []
    },
    {
      "cell_type": "code",
      "source": [
        "x = 7\n",
        "y = 2\n",
        "\n",
        "def divide(x,y):\n",
        "  assert y == 2\n",
        "\n",
        "print (\"The x/y value is: \",divide(x,y)) \n",
        "print(divide(x,y))"
      ],
      "metadata": {
        "colab": {
          "base_uri": "https://localhost:8080/"
        },
        "id": "43uY6N3uyhUJ",
        "outputId": "fa77f2c3-61a6-4c0b-c778-bc3b937fe483"
      },
      "execution_count": 109,
      "outputs": [
        {
          "output_type": "stream",
          "name": "stdout",
          "text": [
            "The x/y value is:  None\n",
            "None\n"
          ]
        }
      ]
    }
  ]
}