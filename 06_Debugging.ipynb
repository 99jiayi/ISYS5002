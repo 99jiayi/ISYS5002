{
  "cells": [
    {
      "cell_type": "markdown",
      "metadata": {
        "id": "view-in-github",
        "colab_type": "text"
      },
      "source": [
        "<a href=\"https://colab.research.google.com/github/99jiayi/ISYS5002/blob/main/06_Debugging.ipynb\" target=\"_parent\"><img src=\"https://colab.research.google.com/assets/colab-badge.svg\" alt=\"Open In Colab\"/></a>"
      ]
    },
    {
      "cell_type": "markdown",
      "metadata": {
        "id": "I_Mvaae0FEHh"
      },
      "source": [
        "# Debugging\n",
        "\n",
        "When you first begin to program, you make a lot of mistakes, and your code doesn’t always work!\n",
        "\n",
        "When you're a skilled programmer, you make mistakes and your code doesn’t always work.\n",
        "\n",
        "**Everyone needs debugging skills.**\n",
        "\n",
        "Debugging is the process of figuring out what is going wrong with your code.There are many ways to debug. This notebook will talk about one specific way: print statement debugging. Print statement debugging is great for beginners because it doesn't require special tools. It's a great way to develop a sense of how to debug effectively."
      ]
    },
    {
      "cell_type": "markdown",
      "metadata": {
        "id": "NUsFNiaGKfUk"
      },
      "source": [
        "# How to Debug With Print Statements\n",
        "\n",
        "Debugging is not just running your code. It also requires reading your code.\n",
        "\n",
        "* Read your code, and\n",
        "* Read your error messages\n",
        "\n",
        "You should have a little bit of an idea of the general area of code where your bug is occurring.  This is often acheived by matching up the output with the code associated with it.\n",
        "\n",
        "You can narrow your search from there: Place print statements so you know \"where\" you are in the code or print the valuse of variables.\n",
        "\n",
        "#### Which Variables Should You Look at?\n",
        "\n",
        "Look at the ones that seem to be misbehaving.  Put a print statement before and after an update, if the value changing as expected?\n",
        "\n",
        "You can put  a print statement inside of a for Loop so that it prints out the value every time the loop goes through.  This can show you what the value is are and how they are changing.  \n",
        "\n",
        "#### Code Excuting as expected\n",
        "\n",
        "You can put a series of numbers throughout the code. Say print one at the beginning.  Then add print statement in various palces incrementing the number.  Then run the program and look at the output.  If you see the numbers “1” “2” “3” “4” and so on then the program is executing as expected. If a number is missing then you can investigate further to see why.\n",
        "\n",
        "#### Use Sparingly\n",
        "\n",
        "Too many print statements can very quickly lead to more confusion, especially within loops.So use your print statements sparingly!"
      ]
    },
    {
      "cell_type": "markdown",
      "metadata": {
        "id": "lDD7obMkF1aQ"
      },
      "source": [
        "We revisit out sort list of numbers into odd list and even list program."
      ]
    },
    {
      "cell_type": "code",
      "execution_count": null,
      "metadata": {
        "id": "4Th8BnP1Cxbt"
      },
      "outputs": [],
      "source": [
        "def odd_even_list(alist):\n",
        "  '''\n",
        "  sort a given list into\n",
        "  two lists - even list and odd list\n",
        "  odd_even_list([7,4,5,9,8,6])\n",
        "  returns ([4, 6, 8], [5, 7, 9])\n",
        "  '''\n",
        "\n",
        "  evenlist = []\n",
        "  oddlist = []\n",
        "\n",
        "  for i in range (1, len(alist)-1):\n",
        "    if alist[i] % 2 == 0:      \n",
        "      evenlist.append(alist[i])\n",
        "      evenlist.sort()\n",
        "    else:\n",
        "      oddlist.append(alist[i])\n",
        "      oddlist.sort()\n",
        "\n",
        "  return evenlist, oddlist"
      ]
    },
    {
      "cell_type": "code",
      "execution_count": null,
      "metadata": {
        "colab": {
          "base_uri": "https://localhost:8080/"
        },
        "id": "_LdGY1fdDNyJ",
        "outputId": "2989c32e-1aeb-4c1e-af40-cd3a58c51481"
      },
      "outputs": [
        {
          "data": {
            "text/plain": [
              "([4, 8], [5, 9])"
            ]
          },
          "execution_count": 6,
          "metadata": {},
          "output_type": "execute_result"
        }
      ],
      "source": [
        "odd_even_list([7,4,5,9,8,6])"
      ]
    },
    {
      "cell_type": "markdown",
      "metadata": {
        "id": "GIaqVlKlIYo2"
      },
      "source": [
        "Let us try a few examples"
      ]
    },
    {
      "cell_type": "code",
      "execution_count": 2,
      "metadata": {
        "id": "vVk8A_JTI5F3"
      },
      "outputs": [],
      "source": [
        "def odd_even_list(alist):\n",
        "  '''\n",
        "  sort a given list into\n",
        "  two lists - even list and odd list\n",
        "  odd_even_list([7,4,5,9,8,6])\n",
        "  returns ([4, 6, 8], [5, 7, 9])\n",
        "  '''\n",
        "\n",
        "  evenlist = []\n",
        "  oddlist = []\n",
        "\n",
        "  for i in range (0, len(alist)):\n",
        "    print(\"i\",i)\n",
        "    print(alist[i])\n",
        "    if alist[i] % 2 == 0:\n",
        "      print(alist[i])      \n",
        "      evenlist.append(alist[i])\n",
        "      evenlist.sort()\n",
        "      print(\"evenlist\",evenlist)\n",
        "    else:\n",
        "      oddlist.append(alist[i])\n",
        "      oddlist.sort()\n",
        "\n",
        "  return evenlist, oddlist"
      ]
    },
    {
      "cell_type": "code",
      "execution_count": null,
      "metadata": {
        "colab": {
          "base_uri": "https://localhost:8080/"
        },
        "id": "kypEIY1uE3YR",
        "outputId": "8322ac45-4500-4b20-eab7-34ec6caa7d4e"
      },
      "outputs": [
        {
          "name": "stdout",
          "output_type": "stream",
          "text": [
            "i 0\n",
            "7\n",
            "i 1\n",
            "1\n",
            "i 2\n",
            "3\n",
            "i 3\n",
            "4\n",
            "4\n",
            "evenlist [4]\n",
            "i 4\n",
            "2\n",
            "2\n",
            "evenlist [2, 4]\n",
            "i 5\n",
            "6\n",
            "6\n",
            "evenlist [2, 4, 6]\n",
            "i 6\n",
            "5\n"
          ]
        },
        {
          "data": {
            "text/plain": [
              "([2, 4, 6], [1, 3, 5, 7])"
            ]
          },
          "execution_count": 8,
          "metadata": {},
          "output_type": "execute_result"
        }
      ],
      "source": [
        "odd_even_list([7,1,3,4,2,6,5])"
      ]
    },
    {
      "cell_type": "markdown",
      "metadata": {
        "id": "vc7m2XskIs4y"
      },
      "source": [
        "This is an example of a runtime error.  The code is syntatically correct and runs, just the expected output is incorrect.\n",
        "\n",
        "It almost works, you may notice a pattern but let us use a print statement to try and trace the executation of the program.  \n",
        "\n",
        "There are lots of places you could put a `print` statement but in this example we will check after the list is updated."
      ]
    },
    {
      "cell_type": "code",
      "execution_count": 1,
      "metadata": {
        "id": "umaiIrX1Iq3x"
      },
      "outputs": [],
      "source": [
        "def odd_even_list(alist):\n",
        "  '''\n",
        "  sort a given list into\n",
        "  two lists - even list and odd list\n",
        "  odd_even_list([7,4,5,9,8,6])\n",
        "  returns ([4, 6, 8], [5, 7, 9])\n",
        "  '''\n",
        "\n",
        "  evenlist = []\n",
        "  oddlist = []\n",
        "\n",
        "  for i in range (1, len(alist)-1):\n",
        "    print(alist[i])\n",
        "    if alist[i] % 2 == 0:\n",
        "      print(alist[i])      \n",
        "      evenlist.append(alist[i])\n",
        "      evenlist.sort()\n",
        "    else:\n",
        "      print(alist[i])\n",
        "      oddlist.append(alist[i])\n",
        "      oddlist.sort()\n",
        "\n",
        "  return evenlist, oddlist"
      ]
    },
    {
      "cell_type": "code",
      "execution_count": 2,
      "metadata": {
        "id": "zbT0OatGGihD",
        "colab": {
          "base_uri": "https://localhost:8080/"
        },
        "outputId": "57a2052c-e8ea-4a7e-99fc-97a4bd0c43e5"
      },
      "outputs": [
        {
          "output_type": "stream",
          "name": "stdout",
          "text": [
            "4\n",
            "4\n",
            "5\n",
            "5\n",
            "9\n",
            "9\n",
            "8\n",
            "8\n"
          ]
        },
        {
          "output_type": "execute_result",
          "data": {
            "text/plain": [
              "([4, 8], [5, 9])"
            ]
          },
          "metadata": {},
          "execution_count": 2
        }
      ],
      "source": [
        "odd_even_list([7,4,5,9,8,6])"
      ]
    },
    {
      "cell_type": "code",
      "execution_count": 3,
      "metadata": {
        "id": "PIpK3TCjGyaU",
        "colab": {
          "base_uri": "https://localhost:8080/"
        },
        "outputId": "0b8b1016-5e2d-46ff-b2fa-bb375f90615d"
      },
      "outputs": [
        {
          "output_type": "stream",
          "name": "stdout",
          "text": [
            "1\n",
            "1\n",
            "3\n",
            "3\n",
            "7\n",
            "7\n",
            "2\n",
            "2\n",
            "6\n",
            "6\n"
          ]
        },
        {
          "output_type": "execute_result",
          "data": {
            "text/plain": [
              "([2, 6], [1, 3, 7])"
            ]
          },
          "metadata": {},
          "execution_count": 3
        }
      ],
      "source": [
        "odd_even_list([4,1,3,7,2,6,5])"
      ]
    },
    {
      "cell_type": "markdown",
      "metadata": {
        "id": "1oV7GzpmKasQ"
      },
      "source": [
        "Analyzing the output, we realize that the ....\n",
        "\n",
        "....  Sometimes you are sure of the fix, sometimes you have an educated guess and try a fix.\n"
      ]
    },
    {
      "cell_type": "code",
      "execution_count": 4,
      "metadata": {
        "id": "AQvRLZyVKY7r"
      },
      "outputs": [],
      "source": [
        "def odd_even_list(alist):\n",
        "  '''\n",
        "  sort a given list into\n",
        "  two lists - even list and odd list\n",
        "  odd_even_list([7,4,5,9,8,6])\n",
        "  returns ([4, 6, 8], [5, 7, 9])\n",
        "  '''\n",
        "\n",
        "  evenlist = []\n",
        "  oddlist = []\n",
        "\n",
        "  for i in range (1, len(alist)-1):\n",
        "    if alist[i] % 2 == 0:      \n",
        "      evenlist.append(alist[i])\n",
        "      evenlist.sort()\n",
        "    else:\n",
        "      oddlist.append(alist[i])\n",
        "      oddlist.sort()\n",
        "\n",
        "  return evenlist, oddlist\n"
      ]
    },
    {
      "cell_type": "code",
      "source": [
        "odd_even_list = (7,4,5,9,8,6)\n",
        "i = 0\n",
        "odd_nums =[]\n",
        "even_nums =[]\n",
        "\n",
        "while(i<len(odd_even_list)):\n",
        "  if odd_even_list[i] % 2 != 0 and len(odd_nums) <5:\n",
        "    odd_nums.append(odd_even_list[i])\n",
        "\n",
        "  if odd_even_list[i] % 2 != 0 and len(even_nums) <5:\n",
        "    even_nums.append(odd_even_list[i])\n",
        "\n",
        "  i += 1\n",
        "  print(odd_nums)\n",
        "  print(even_nums)"
      ],
      "metadata": {
        "id": "0gSue7K8lrgf",
        "outputId": "e0c8ffec-ca55-4b91-b50e-48dea2cc9f9c",
        "colab": {
          "base_uri": "https://localhost:8080/"
        }
      },
      "execution_count": 3,
      "outputs": [
        {
          "output_type": "stream",
          "name": "stdout",
          "text": [
            "[7]\n",
            "[7]\n",
            "[7]\n",
            "[7]\n",
            "[7, 5]\n",
            "[7, 5]\n",
            "[7, 5, 9]\n",
            "[7, 5, 9]\n",
            "[7, 5, 9]\n",
            "[7, 5, 9]\n",
            "[7, 5, 9]\n",
            "[7, 5, 9]\n"
          ]
        }
      ]
    },
    {
      "cell_type": "code",
      "execution_count": 1,
      "metadata": {
        "id": "6YnvMrNEdmZw",
        "colab": {
          "base_uri": "https://localhost:8080/"
        },
        "outputId": "f4a9f4ce-1720-4d5e-e283-16302abc27cb"
      },
      "outputs": [
        {
          "output_type": "stream",
          "name": "stdout",
          "text": [
            "[]\n",
            "[]\n",
            "[1]\n",
            "[1]\n",
            "[1, 3]\n",
            "[1, 3]\n",
            "[1, 3, 7]\n",
            "[1, 3, 7]\n",
            "[1, 3, 7]\n",
            "[1, 3, 7]\n",
            "[1, 3, 7]\n",
            "[1, 3, 7]\n",
            "[1, 3, 7, 5]\n",
            "[1, 3, 7, 5]\n"
          ]
        }
      ],
      "source": [
        "odd_even_list = (4,1,3,7,2,6,5)\n",
        "i = 0\n",
        "odd_nums =[]\n",
        "even_nums =[]\n",
        "\n",
        "while(i<len(odd_even_list)):\n",
        "  if odd_even_list[i] % 2 != 0 and len(odd_nums) <5:\n",
        "    odd_nums.append(odd_even_list[i])\n",
        "\n",
        "  if odd_even_list[i] % 2 != 0 and len(even_nums) <5:\n",
        "    even_nums.append(odd_even_list[i])\n",
        "\n",
        "  i += 1\n",
        "  print(odd_nums)\n",
        "  print(even_nums)\n"
      ]
    },
    {
      "cell_type": "markdown",
      "metadata": {
        "id": "142Msl3UMz08"
      },
      "source": [
        "Once you are happy it is working.  Remove or comment out the print() statement."
      ]
    },
    {
      "cell_type": "code",
      "execution_count": 3,
      "metadata": {
        "id": "nXGowQG7MyGp",
        "colab": {
          "base_uri": "https://localhost:8080/"
        },
        "outputId": "69219126-65ef-4db9-f67f-2be92b1f591c"
      },
      "outputs": [
        {
          "output_type": "execute_result",
          "data": {
            "text/plain": [
              "[]"
            ]
          },
          "metadata": {},
          "execution_count": 3
        }
      ],
      "source": [
        "evenlist = []\n",
        "oddlist = []\n",
        "i = 0\n",
        "\n",
        "def alist():\n",
        "  for i in range (1, len(alist)-1):\n",
        "    if alist[i] % 2 == 0:      \n",
        "      evenlist.append(alist[i])\n",
        "      evenlist.sort()\n",
        "    else:\n",
        "      oddlist.append(alist[i])\n",
        "      oddlist.sort()\n",
        "\n",
        "    return evenlist, oddlist\n",
        "\n",
        "evenlist\n",
        "oddlist"
      ]
    },
    {
      "cell_type": "code",
      "execution_count": 1,
      "metadata": {
        "id": "eMNdpicmM9uF",
        "colab": {
          "base_uri": "https://localhost:8080/"
        },
        "outputId": "914f2f97-b59a-4080-d3a0-907bcf14bbce"
      },
      "outputs": [
        {
          "output_type": "execute_result",
          "data": {
            "text/plain": [
              "[5, 9]"
            ]
          },
          "metadata": {},
          "execution_count": 1
        }
      ],
      "source": [
        "odd_even_list = (7,4,5,9,8,6)\n",
        "i = 0\n",
        "evenlist = []\n",
        "oddlist = []\n",
        "\n",
        "for i in range (1, len(odd_even_list)):\n",
        "  \n",
        "  if odd_even_list[i] % 2 == 0:      \n",
        "    evenlist.append(odd_even_list[i])\n",
        "    evenlist.sort()\n",
        "    \n",
        "  else:\n",
        "    oddlist.append(odd_even_list[i])\n",
        "    oddlist.sort()\n",
        "\n",
        "evenlist\n",
        "oddlist    "
      ]
    },
    {
      "cell_type": "code",
      "execution_count": 2,
      "metadata": {
        "id": "Vkt62QK6NBQ0",
        "colab": {
          "base_uri": "https://localhost:8080/"
        },
        "outputId": "bb56a34a-ee45-4c96-a0ec-c25a181238d4"
      },
      "outputs": [
        {
          "output_type": "execute_result",
          "data": {
            "text/plain": [
              "[1, 3, 5, 7]"
            ]
          },
          "metadata": {},
          "execution_count": 2
        }
      ],
      "source": [
        "odd_even_list = (4,1,3,7,2,6,5)\n",
        "evenlist = []\n",
        "oddlist = []\n",
        "\n",
        "for i in range (1, len(odd_even_list)):\n",
        "  \n",
        "  if odd_even_list[i] % 2 == 0:      \n",
        "    evenlist.append(odd_even_list[i])\n",
        "    evenlist.sort()\n",
        "    \n",
        "  else:\n",
        "    oddlist.append(odd_even_list[i])\n",
        "    oddlist.sort()\n",
        "\n",
        "evenlist\n",
        "oddlist       "
      ]
    },
    {
      "cell_type": "markdown",
      "metadata": {
        "id": "HnTsRFt1u15F"
      },
      "source": [
        "# Debugging with pdb\n",
        "\n",
        "Python 3.7 has a built-in interctive debugger called **pdb**. It is possible to stop the execution of the code at any point by setting a breakpoint.  This will jump you into interactive the pdb command line.  From there you can then print values of variables, list lines of code, run one line of code at a time.  Taken directly from the [pdb documentation](https://docs.python.org/3/library/pdb.html), here are the important five commands.\n",
        "\n",
        "* l(ist) - Displays 11 lines around the current line\n",
        "* s(tep) - Execute the current line, stop at the first possible occasion.\n",
        "* n(ext) - Continue execution until the next line in the current function is reached or it returns.\n",
        "* b(reak) - Set a breakpoint (depending on the argument provided).\n",
        "* r(eturn) - Continue execution until the current function returns.\n",
        "\n",
        "## How to set a breakpoint() \n",
        "\n",
        "In Python 3.7 to set a breakpoint we put the following function at the location in the code where we want execution to stop:\n",
        "\n",
        "      breakpoint()\n",
        "\n",
        "For older verison of pytohn you will need to insert the following code at the location where you want to break into the debugger:\n",
        "\n",
        "    import pdb; pdb.set_trace()\n",
        "\n",
        "Let's look at the now familiar even_odd_list() for an earlier.  Normally you would execute the code and try some input.  Then match the output to the code and make a educated guess where you would put the breakpoint(). \n",
        "\n",
        "With *pdb* because you can step through one line at a time, you don't have to be as precise with the location of the breakpoint. So it is common to see a break point at the start of the misbehaving function.\n",
        "\n",
        "Where would be a a good locaiton to place a break point?  Place a breakpoint in the followcode and then explore some of the basic commands and view the values in some variables.  Once comfortable with the *pdb* commands, can you come to the same conclusions as before when using the `print()` statements?\n",
        "\n"
      ]
    },
    {
      "cell_type": "code",
      "execution_count": 1,
      "metadata": {
        "id": "atC1N-aPKwuN"
      },
      "outputs": [],
      "source": [
        "def odd_even_list(alist):\n",
        "  '''\n",
        "  sort a given list into\n",
        "  two lists - even list and odd list\n",
        "  odd_even_list([7,4,5,9,8,6])\n",
        "  returns ([4, 6, 8], [5, 7, 9])\n",
        "  '''\n",
        "\n",
        "  evenlist = []\n",
        "  oddlist = []\n",
        "\n",
        "  for i in range (1, len(alist)-1):\n",
        "    breakpoint()\n",
        "    if alist[i] % 2 == 0:      \n",
        "      evenlist.append(alist[i])\n",
        "      evenlist.sort()\n",
        "    else:\n",
        "      oddlist.append(alist[i])\n",
        "      oddlist.sort()\n",
        "\n",
        "  return evenlist, oddlist"
      ]
    },
    {
      "cell_type": "code",
      "execution_count": 3,
      "metadata": {
        "colab": {
          "base_uri": "https://localhost:8080/",
          "height": 1000
        },
        "id": "Ph-C3O-rLI-z",
        "outputId": "7ba5a690-9aa0-41bd-b586-180bf4322f41"
      },
      "outputs": [
        {
          "name": "stdout",
          "output_type": "stream",
          "text": [
            "> <ipython-input-3-cad1444b7c64>(8)<module>()\n",
            "-> if odd_even_list[i] % 2 == 0:\n",
            "(Pdb) odd_even_list[i]\n",
            "4\n",
            "(Pdb) odd_even_list\n",
            "(7, 4, 5, 9, 8, 6)\n",
            "(Pdb) odd_even_list[i+1]\n",
            "5\n",
            "(Pdb) odd_even_list[i = 1]\n",
            "*** SyntaxError: invalid syntax\n",
            "(Pdb) odd_even_list[i-2]\n",
            "6\n",
            "(Pdb) odd_even_list[i+2]\n",
            "9\n",
            "(Pdb) odd_even_list[i -1]\n",
            "7\n",
            "(Pdb) oddlist\n",
            "[]\n",
            "(Pdb) evenlist\n",
            "[]\n",
            "(Pdb) i\n",
            "1\n",
            "(Pdb) [i]\n",
            "[1]\n",
            "(Pdb) 99\n",
            "99\n",
            "(Pdb) 123\n",
            "123\n",
            "(Pdb) odd_even_list[i/1]\n",
            "*** TypeError: tuple indices must be integers or slices, not float\n",
            "(Pdb) odd_even_list[i*2]\n",
            "5\n",
            "(Pdb) odd_even_list[i*3]\n",
            "9\n",
            "(Pdb) odd_even_list[i-3]\n",
            "8\n",
            "(Pdb) odd_even_list[i-2]\n",
            "6\n",
            "(Pdb) odd_even_list[i+1]\n",
            "5\n",
            "(Pdb) odd_even_list[i+2]\n",
            "9\n",
            "(Pdb) odd_even_list[i+3]\n",
            "8\n",
            "(Pdb) odd_even_list[i/1]\n",
            "*** TypeError: tuple indices must be integers or slices, not float\n",
            "(Pdb) odd_even_list[i/2\n",
            "*** SyntaxError: unexpected EOF while parsing\n",
            "(Pdb) odd_even_list[i/2]\n",
            "*** TypeError: tuple indices must be integers or slices, not float\n",
            "(Pdb) odd_even_list[i/1]\n",
            "*** TypeError: tuple indices must be integers or slices, not float\n",
            "(Pdb) 0\n",
            "0\n",
            "(Pdb) hello\n",
            "*** NameError: name 'hello' is not defined\n",
            "(Pdb) list\n",
            "  3  \tevenlist = []\n",
            "  4  \toddlist = []\n",
            "  5  \t\n",
            "  6  \tfor i in range (1, len(odd_even_list)):\n",
            "  7  \t  breakpoint()\n",
            "  8  ->\t  if odd_even_list[i] % 2 == 0:\n",
            "  9  \t    evenlist.append(odd_even_list[i])\n",
            " 10  \t    evenlist.sort()\n",
            " 11  \t\n",
            " 12  \t  else:\n",
            " 13  \t    oddlist.append(odd_even_list[i])\n",
            "(Pdb) python\n",
            "*** NameError: name 'python' is not defined\n",
            "(Pdb) append\n",
            "*** NameError: name 'append' is not defined\n",
            "(Pdb) 12.50\n",
            "12.5\n",
            "(Pdb) asdfghjkl\n",
            "*** NameError: name 'asdfghjkl' is not defined\n",
            "(Pdb) sdfghj\n",
            "*** NameError: name 'sdfghj' is not defined\n",
            "(Pdb) 2345678\n",
            "2345678\n",
            "(Pdb) wertyuio\n",
            "*** NameError: name 'wertyuio' is not defined\n",
            "(Pdb) tghn456yh\n",
            "*** NameError: name 'tghn456yh' is not defined\n",
            "(Pdb) odd_even_list[i]\n",
            "4\n",
            "(Pdb) odd_even_list\n",
            "(7, 4, 5, 9, 8, 6)\n",
            "(Pdb) even\n",
            "*** NameError: name 'even' is not defined\n",
            "(Pdb) oddlist\n",
            "[]\n",
            "(Pdb) evenlist\n",
            "[]\n",
            "(Pdb) dfgh\n",
            "*** NameError: name 'dfgh' is not defined\n",
            "(Pdb) list\n",
            " 14  \t    oddlist.sort()\n",
            " 15  \t\n",
            " 16  \tevenlist\n",
            " 17  \toddlist\n",
            "[EOF]\n",
            "(Pdb) 88\n",
            "88\n",
            "(Pdb) list\n",
            "[EOF]\n",
            "(Pdb) odd_even_list[i]\n",
            "4\n",
            "(Pdb) odd_even_list[i+1]\n",
            "5\n",
            "(Pdb) odd_even_list[i-1]\n",
            "7\n",
            "(Pdb) ertyuy\n",
            "*** NameError: name 'ertyuy' is not defined\n",
            "(Pdb) ndks\n",
            "*** NameError: name 'ndks' is not defined\n",
            "(Pdb) 3\n",
            "3\n",
            "(Pdb) 23hjkjn\n",
            "*** SyntaxError: invalid syntax\n",
            "(Pdb) \n",
            "*** SyntaxError: invalid syntax\n",
            "(Pdb) \n",
            "*** SyntaxError: invalid syntax\n",
            "--KeyboardInterrupt--\n",
            "(Pdb) wertyui\n",
            "*** NameError: name 'wertyui' is not defined\n",
            "(Pdb) 12345678\n",
            "12345678\n",
            "(Pdb) evenlist\n",
            "[]\n",
            "(Pdb) 89\n",
            "89\n",
            "(Pdb) 3456\n",
            "3456\n",
            "(Pdb) q\n"
          ]
        },
        {
          "output_type": "error",
          "ename": "BdbQuit",
          "evalue": "ignored",
          "traceback": [
            "\u001b[0;31m---------------------------------------------------------------------------\u001b[0m",
            "\u001b[0;31mBdbQuit\u001b[0m                                   Traceback (most recent call last)",
            "\u001b[0;32m<ipython-input-3-cad1444b7c64>\u001b[0m in \u001b[0;36m<module>\u001b[0;34m\u001b[0m\n\u001b[1;32m      6\u001b[0m \u001b[0;32mfor\u001b[0m \u001b[0mi\u001b[0m \u001b[0;32min\u001b[0m \u001b[0mrange\u001b[0m \u001b[0;34m(\u001b[0m\u001b[0;36m1\u001b[0m\u001b[0;34m,\u001b[0m \u001b[0mlen\u001b[0m\u001b[0;34m(\u001b[0m\u001b[0modd_even_list\u001b[0m\u001b[0;34m)\u001b[0m\u001b[0;34m)\u001b[0m\u001b[0;34m:\u001b[0m\u001b[0;34m\u001b[0m\u001b[0;34m\u001b[0m\u001b[0m\n\u001b[1;32m      7\u001b[0m   \u001b[0mbreakpoint\u001b[0m\u001b[0;34m(\u001b[0m\u001b[0;34m)\u001b[0m\u001b[0;34m\u001b[0m\u001b[0;34m\u001b[0m\u001b[0m\n\u001b[0;32m----> 8\u001b[0;31m   \u001b[0;32mif\u001b[0m \u001b[0modd_even_list\u001b[0m\u001b[0;34m[\u001b[0m\u001b[0mi\u001b[0m\u001b[0;34m]\u001b[0m \u001b[0;34m%\u001b[0m \u001b[0;36m2\u001b[0m \u001b[0;34m==\u001b[0m \u001b[0;36m0\u001b[0m\u001b[0;34m:\u001b[0m\u001b[0;34m\u001b[0m\u001b[0;34m\u001b[0m\u001b[0m\n\u001b[0m\u001b[1;32m      9\u001b[0m     \u001b[0mevenlist\u001b[0m\u001b[0;34m.\u001b[0m\u001b[0mappend\u001b[0m\u001b[0;34m(\u001b[0m\u001b[0modd_even_list\u001b[0m\u001b[0;34m[\u001b[0m\u001b[0mi\u001b[0m\u001b[0;34m]\u001b[0m\u001b[0;34m)\u001b[0m\u001b[0;34m\u001b[0m\u001b[0;34m\u001b[0m\u001b[0m\n\u001b[1;32m     10\u001b[0m     \u001b[0mevenlist\u001b[0m\u001b[0;34m.\u001b[0m\u001b[0msort\u001b[0m\u001b[0;34m(\u001b[0m\u001b[0;34m)\u001b[0m\u001b[0;34m\u001b[0m\u001b[0;34m\u001b[0m\u001b[0m\n",
            "\u001b[0;32m<ipython-input-3-cad1444b7c64>\u001b[0m in \u001b[0;36m<module>\u001b[0;34m\u001b[0m\n\u001b[1;32m      6\u001b[0m \u001b[0;32mfor\u001b[0m \u001b[0mi\u001b[0m \u001b[0;32min\u001b[0m \u001b[0mrange\u001b[0m \u001b[0;34m(\u001b[0m\u001b[0;36m1\u001b[0m\u001b[0;34m,\u001b[0m \u001b[0mlen\u001b[0m\u001b[0;34m(\u001b[0m\u001b[0modd_even_list\u001b[0m\u001b[0;34m)\u001b[0m\u001b[0;34m)\u001b[0m\u001b[0;34m:\u001b[0m\u001b[0;34m\u001b[0m\u001b[0;34m\u001b[0m\u001b[0m\n\u001b[1;32m      7\u001b[0m   \u001b[0mbreakpoint\u001b[0m\u001b[0;34m(\u001b[0m\u001b[0;34m)\u001b[0m\u001b[0;34m\u001b[0m\u001b[0;34m\u001b[0m\u001b[0m\n\u001b[0;32m----> 8\u001b[0;31m   \u001b[0;32mif\u001b[0m \u001b[0modd_even_list\u001b[0m\u001b[0;34m[\u001b[0m\u001b[0mi\u001b[0m\u001b[0;34m]\u001b[0m \u001b[0;34m%\u001b[0m \u001b[0;36m2\u001b[0m \u001b[0;34m==\u001b[0m \u001b[0;36m0\u001b[0m\u001b[0;34m:\u001b[0m\u001b[0;34m\u001b[0m\u001b[0;34m\u001b[0m\u001b[0m\n\u001b[0m\u001b[1;32m      9\u001b[0m     \u001b[0mevenlist\u001b[0m\u001b[0;34m.\u001b[0m\u001b[0mappend\u001b[0m\u001b[0;34m(\u001b[0m\u001b[0modd_even_list\u001b[0m\u001b[0;34m[\u001b[0m\u001b[0mi\u001b[0m\u001b[0;34m]\u001b[0m\u001b[0;34m)\u001b[0m\u001b[0;34m\u001b[0m\u001b[0;34m\u001b[0m\u001b[0m\n\u001b[1;32m     10\u001b[0m     \u001b[0mevenlist\u001b[0m\u001b[0;34m.\u001b[0m\u001b[0msort\u001b[0m\u001b[0;34m(\u001b[0m\u001b[0;34m)\u001b[0m\u001b[0;34m\u001b[0m\u001b[0;34m\u001b[0m\u001b[0m\n",
            "\u001b[0;32m/usr/lib/python3.7/bdb.py\u001b[0m in \u001b[0;36mtrace_dispatch\u001b[0;34m(self, frame, event, arg)\u001b[0m\n\u001b[1;32m     86\u001b[0m             \u001b[0;32mreturn\u001b[0m \u001b[0;31m# None\u001b[0m\u001b[0;34m\u001b[0m\u001b[0;34m\u001b[0m\u001b[0m\n\u001b[1;32m     87\u001b[0m         \u001b[0;32mif\u001b[0m \u001b[0mevent\u001b[0m \u001b[0;34m==\u001b[0m \u001b[0;34m'line'\u001b[0m\u001b[0;34m:\u001b[0m\u001b[0;34m\u001b[0m\u001b[0;34m\u001b[0m\u001b[0m\n\u001b[0;32m---> 88\u001b[0;31m             \u001b[0;32mreturn\u001b[0m \u001b[0mself\u001b[0m\u001b[0;34m.\u001b[0m\u001b[0mdispatch_line\u001b[0m\u001b[0;34m(\u001b[0m\u001b[0mframe\u001b[0m\u001b[0;34m)\u001b[0m\u001b[0;34m\u001b[0m\u001b[0;34m\u001b[0m\u001b[0m\n\u001b[0m\u001b[1;32m     89\u001b[0m         \u001b[0;32mif\u001b[0m \u001b[0mevent\u001b[0m \u001b[0;34m==\u001b[0m \u001b[0;34m'call'\u001b[0m\u001b[0;34m:\u001b[0m\u001b[0;34m\u001b[0m\u001b[0;34m\u001b[0m\u001b[0m\n\u001b[1;32m     90\u001b[0m             \u001b[0;32mreturn\u001b[0m \u001b[0mself\u001b[0m\u001b[0;34m.\u001b[0m\u001b[0mdispatch_call\u001b[0m\u001b[0;34m(\u001b[0m\u001b[0mframe\u001b[0m\u001b[0;34m,\u001b[0m \u001b[0marg\u001b[0m\u001b[0;34m)\u001b[0m\u001b[0;34m\u001b[0m\u001b[0;34m\u001b[0m\u001b[0m\n",
            "\u001b[0;32m/usr/lib/python3.7/bdb.py\u001b[0m in \u001b[0;36mdispatch_line\u001b[0;34m(self, frame)\u001b[0m\n\u001b[1;32m    111\u001b[0m         \u001b[0;32mif\u001b[0m \u001b[0mself\u001b[0m\u001b[0;34m.\u001b[0m\u001b[0mstop_here\u001b[0m\u001b[0;34m(\u001b[0m\u001b[0mframe\u001b[0m\u001b[0;34m)\u001b[0m \u001b[0;32mor\u001b[0m \u001b[0mself\u001b[0m\u001b[0;34m.\u001b[0m\u001b[0mbreak_here\u001b[0m\u001b[0;34m(\u001b[0m\u001b[0mframe\u001b[0m\u001b[0;34m)\u001b[0m\u001b[0;34m:\u001b[0m\u001b[0;34m\u001b[0m\u001b[0;34m\u001b[0m\u001b[0m\n\u001b[1;32m    112\u001b[0m             \u001b[0mself\u001b[0m\u001b[0;34m.\u001b[0m\u001b[0muser_line\u001b[0m\u001b[0;34m(\u001b[0m\u001b[0mframe\u001b[0m\u001b[0;34m)\u001b[0m\u001b[0;34m\u001b[0m\u001b[0;34m\u001b[0m\u001b[0m\n\u001b[0;32m--> 113\u001b[0;31m             \u001b[0;32mif\u001b[0m \u001b[0mself\u001b[0m\u001b[0;34m.\u001b[0m\u001b[0mquitting\u001b[0m\u001b[0;34m:\u001b[0m \u001b[0;32mraise\u001b[0m \u001b[0mBdbQuit\u001b[0m\u001b[0;34m\u001b[0m\u001b[0;34m\u001b[0m\u001b[0m\n\u001b[0m\u001b[1;32m    114\u001b[0m         \u001b[0;32mreturn\u001b[0m \u001b[0mself\u001b[0m\u001b[0;34m.\u001b[0m\u001b[0mtrace_dispatch\u001b[0m\u001b[0;34m\u001b[0m\u001b[0;34m\u001b[0m\u001b[0m\n\u001b[1;32m    115\u001b[0m \u001b[0;34m\u001b[0m\u001b[0m\n",
            "\u001b[0;31mBdbQuit\u001b[0m: "
          ]
        }
      ],
      "source": [
        "odd_even_list = (7,4,5,9,8,6)\n",
        "i = 0\n",
        "evenlist = []\n",
        "oddlist = []\n",
        "\n",
        "for i in range (1, len(odd_even_list)):\n",
        "  breakpoint()\n",
        "  if odd_even_list[i] % 2 == 0:      \n",
        "    evenlist.append(odd_even_list[i])\n",
        "    evenlist.sort()\n",
        "    \n",
        "  else:\n",
        "    oddlist.append(odd_even_list[i])\n",
        "    oddlist.sort()\n",
        "\n",
        "evenlist\n",
        "oddlist"
      ]
    },
    {
      "cell_type": "code",
      "execution_count": 1,
      "metadata": {
        "id": "Grg6nQ8eOriL",
        "colab": {
          "base_uri": "https://localhost:8080/",
          "height": 1000
        },
        "outputId": "7c71204e-fada-4295-aaea-2c7c10aa523a"
      },
      "outputs": [
        {
          "output_type": "stream",
          "name": "stderr",
          "text": [
            "\n",
            "PYDEV DEBUGGER WARNING:\n",
            "sys.settrace() should not be used when the debugger is being used.\n",
            "This may cause the debugger to stop working correctly.\n",
            "If this is needed, please check: \n",
            "http://pydev.blogspot.com/2007/06/why-cant-pydev-debugger-work-with.html\n",
            "to see how to restore the debug tracing back correctly.\n",
            "Call Location:\n",
            "  File \"/usr/lib/python3.7/bdb.py\", line 332, in set_trace\n",
            "    sys.settrace(self.trace_dispatch)\n",
            "\n"
          ]
        },
        {
          "name": "stdout",
          "output_type": "stream",
          "text": [
            "> <ipython-input-1-fc442b7f5c3e>(8)<module>()\n",
            "-> if odd_even_list[i] % 2 != 0 and len(odd_nums) <5:\n",
            "(Pdb) oddnums\n",
            "*** NameError: name 'oddnums' is not defined\n",
            "(Pdb) odd_even_list\n",
            "(4, 1, 3, 7, 2, 6, 5)\n",
            "(Pdb) evenlist\n",
            "*** NameError: name 'evenlist' is not defined\n",
            "(Pdb) odd_list\n",
            "*** NameError: name 'odd_list' is not defined\n",
            "(Pdb) odd_nums\n",
            "[1, 3, 5, 7]\n",
            "(Pdb) odd_even_list[i]\n",
            "4\n",
            "(Pdb) odd_even_list[i+1]\n",
            "1\n",
            "(Pdb) odd_even_list[i+2]\n",
            "3\n",
            "(Pdb) odd_even_list[i/2]\n",
            "*** TypeError: tuple indices must be integers or slices, not float\n",
            "(Pdb) odd_even_list[i-2]\n",
            "6\n",
            "(Pdb) odd_even_list[i+3]\n",
            "7\n",
            "(Pdb) odd_even_list[i]\n",
            "4\n",
            "(Pdb) even_nums\n",
            "[2, 4, 6]\n",
            "(Pdb) odd_even_list[i+2]\n",
            "3\n",
            "(Pdb) odd_even_list[i-1]\n",
            "5\n",
            "(Pdb) odd_even_list[i-3]\n",
            "2\n",
            "(Pdb) odd_even_list[i*1]\n",
            "4\n",
            "(Pdb) odd_even_list[i*2]\n",
            "4\n",
            "(Pdb) i\n",
            "0\n",
            "(Pdb) [i]\n",
            "[0]\n",
            "(Pdb) odd_even_list[i+5]\n",
            "6\n",
            "(Pdb) odd_even_list[i/2.5]\n",
            "*** TypeError: tuple indices must be integers or slices, not float\n",
            "(Pdb) odd_even_list[i/2\n",
            "*** SyntaxError: unexpected EOF while parsing\n",
            "(Pdb) odd_even_list[i/2]\n",
            "*** TypeError: tuple indices must be integers or slices, not float\n",
            "(Pdb) asdfghjkl\n",
            "*** NameError: name 'asdfghjkl' is not defined\n",
            "(Pdb) 123\n",
            "123\n",
            "(Pdb) gknznc\n",
            "*** NameError: name 'gknznc' is not defined\n",
            "(Pdb) hbxjn\n",
            "*** NameError: name 'hbxjn' is not defined\n",
            "(Pdb) hxnzk\n",
            "*** NameError: name 'hxnzk' is not defined\n",
            "(Pdb) 12345678\n",
            "12345678\n",
            "(Pdb) odd\n",
            "*** NameError: name 'odd' is not defined\n",
            "(Pdb) yo\n",
            "*** NameError: name 'yo' is not defined\n",
            "(Pdb) en\n",
            "*** NameError: name 'en' is not defined\n",
            "(Pdb) even\n",
            "*** NameError: name 'even' is not defined\n",
            "(Pdb) bdbquit\n",
            "*** NameError: name 'bdbquit' is not defined\n",
            "(Pdb) Q\n",
            "*** NameError: name 'Q' is not defined\n",
            "(Pdb) q\n"
          ]
        },
        {
          "output_type": "stream",
          "name": "stderr",
          "text": [
            "\n",
            "PYDEV DEBUGGER WARNING:\n",
            "sys.settrace() should not be used when the debugger is being used.\n",
            "This may cause the debugger to stop working correctly.\n",
            "If this is needed, please check: \n",
            "http://pydev.blogspot.com/2007/06/why-cant-pydev-debugger-work-with.html\n",
            "to see how to restore the debug tracing back correctly.\n",
            "Call Location:\n",
            "  File \"/usr/lib/python3.7/bdb.py\", line 357, in set_quit\n",
            "    sys.settrace(None)\n",
            "\n"
          ]
        },
        {
          "output_type": "error",
          "ename": "BdbQuit",
          "evalue": "ignored",
          "traceback": [
            "\u001b[0;31m---------------------------------------------------------------------------\u001b[0m",
            "\u001b[0;31mBdbQuit\u001b[0m                                   Traceback (most recent call last)",
            "\u001b[0;32m<ipython-input-1-fc442b7f5c3e>\u001b[0m in \u001b[0;36m<module>\u001b[0;34m\u001b[0m\n\u001b[1;32m      6\u001b[0m \u001b[0;32mwhile\u001b[0m\u001b[0;34m(\u001b[0m\u001b[0mi\u001b[0m\u001b[0;34m<\u001b[0m\u001b[0mlen\u001b[0m\u001b[0;34m(\u001b[0m\u001b[0modd_even_list\u001b[0m\u001b[0;34m)\u001b[0m\u001b[0;34m)\u001b[0m\u001b[0;34m:\u001b[0m\u001b[0;34m\u001b[0m\u001b[0;34m\u001b[0m\u001b[0m\n\u001b[1;32m      7\u001b[0m   \u001b[0mbreakpoint\u001b[0m\u001b[0;34m(\u001b[0m\u001b[0;34m)\u001b[0m\u001b[0;34m\u001b[0m\u001b[0;34m\u001b[0m\u001b[0m\n\u001b[0;32m----> 8\u001b[0;31m   \u001b[0;32mif\u001b[0m \u001b[0modd_even_list\u001b[0m\u001b[0;34m[\u001b[0m\u001b[0mi\u001b[0m\u001b[0;34m]\u001b[0m \u001b[0;34m%\u001b[0m \u001b[0;36m2\u001b[0m \u001b[0;34m!=\u001b[0m \u001b[0;36m0\u001b[0m \u001b[0;32mand\u001b[0m \u001b[0mlen\u001b[0m\u001b[0;34m(\u001b[0m\u001b[0modd_nums\u001b[0m\u001b[0;34m)\u001b[0m \u001b[0;34m<\u001b[0m\u001b[0;36m5\u001b[0m\u001b[0;34m:\u001b[0m\u001b[0;34m\u001b[0m\u001b[0;34m\u001b[0m\u001b[0m\n\u001b[0m\u001b[1;32m      9\u001b[0m     \u001b[0modd_nums\u001b[0m\u001b[0;34m.\u001b[0m\u001b[0mappend\u001b[0m\u001b[0;34m(\u001b[0m\u001b[0modd_even_list\u001b[0m\u001b[0;34m[\u001b[0m\u001b[0mi\u001b[0m\u001b[0;34m]\u001b[0m\u001b[0;34m)\u001b[0m\u001b[0;34m\u001b[0m\u001b[0;34m\u001b[0m\u001b[0m\n\u001b[1;32m     10\u001b[0m \u001b[0;34m\u001b[0m\u001b[0m\n",
            "\u001b[0;32m<ipython-input-1-fc442b7f5c3e>\u001b[0m in \u001b[0;36m<module>\u001b[0;34m\u001b[0m\n\u001b[1;32m      6\u001b[0m \u001b[0;32mwhile\u001b[0m\u001b[0;34m(\u001b[0m\u001b[0mi\u001b[0m\u001b[0;34m<\u001b[0m\u001b[0mlen\u001b[0m\u001b[0;34m(\u001b[0m\u001b[0modd_even_list\u001b[0m\u001b[0;34m)\u001b[0m\u001b[0;34m)\u001b[0m\u001b[0;34m:\u001b[0m\u001b[0;34m\u001b[0m\u001b[0;34m\u001b[0m\u001b[0m\n\u001b[1;32m      7\u001b[0m   \u001b[0mbreakpoint\u001b[0m\u001b[0;34m(\u001b[0m\u001b[0;34m)\u001b[0m\u001b[0;34m\u001b[0m\u001b[0;34m\u001b[0m\u001b[0m\n\u001b[0;32m----> 8\u001b[0;31m   \u001b[0;32mif\u001b[0m \u001b[0modd_even_list\u001b[0m\u001b[0;34m[\u001b[0m\u001b[0mi\u001b[0m\u001b[0;34m]\u001b[0m \u001b[0;34m%\u001b[0m \u001b[0;36m2\u001b[0m \u001b[0;34m!=\u001b[0m \u001b[0;36m0\u001b[0m \u001b[0;32mand\u001b[0m \u001b[0mlen\u001b[0m\u001b[0;34m(\u001b[0m\u001b[0modd_nums\u001b[0m\u001b[0;34m)\u001b[0m \u001b[0;34m<\u001b[0m\u001b[0;36m5\u001b[0m\u001b[0;34m:\u001b[0m\u001b[0;34m\u001b[0m\u001b[0;34m\u001b[0m\u001b[0m\n\u001b[0m\u001b[1;32m      9\u001b[0m     \u001b[0modd_nums\u001b[0m\u001b[0;34m.\u001b[0m\u001b[0mappend\u001b[0m\u001b[0;34m(\u001b[0m\u001b[0modd_even_list\u001b[0m\u001b[0;34m[\u001b[0m\u001b[0mi\u001b[0m\u001b[0;34m]\u001b[0m\u001b[0;34m)\u001b[0m\u001b[0;34m\u001b[0m\u001b[0;34m\u001b[0m\u001b[0m\n\u001b[1;32m     10\u001b[0m \u001b[0;34m\u001b[0m\u001b[0m\n",
            "\u001b[0;32m/usr/lib/python3.7/bdb.py\u001b[0m in \u001b[0;36mtrace_dispatch\u001b[0;34m(self, frame, event, arg)\u001b[0m\n\u001b[1;32m     86\u001b[0m             \u001b[0;32mreturn\u001b[0m \u001b[0;31m# None\u001b[0m\u001b[0;34m\u001b[0m\u001b[0;34m\u001b[0m\u001b[0m\n\u001b[1;32m     87\u001b[0m         \u001b[0;32mif\u001b[0m \u001b[0mevent\u001b[0m \u001b[0;34m==\u001b[0m \u001b[0;34m'line'\u001b[0m\u001b[0;34m:\u001b[0m\u001b[0;34m\u001b[0m\u001b[0;34m\u001b[0m\u001b[0m\n\u001b[0;32m---> 88\u001b[0;31m             \u001b[0;32mreturn\u001b[0m \u001b[0mself\u001b[0m\u001b[0;34m.\u001b[0m\u001b[0mdispatch_line\u001b[0m\u001b[0;34m(\u001b[0m\u001b[0mframe\u001b[0m\u001b[0;34m)\u001b[0m\u001b[0;34m\u001b[0m\u001b[0;34m\u001b[0m\u001b[0m\n\u001b[0m\u001b[1;32m     89\u001b[0m         \u001b[0;32mif\u001b[0m \u001b[0mevent\u001b[0m \u001b[0;34m==\u001b[0m \u001b[0;34m'call'\u001b[0m\u001b[0;34m:\u001b[0m\u001b[0;34m\u001b[0m\u001b[0;34m\u001b[0m\u001b[0m\n\u001b[1;32m     90\u001b[0m             \u001b[0;32mreturn\u001b[0m \u001b[0mself\u001b[0m\u001b[0;34m.\u001b[0m\u001b[0mdispatch_call\u001b[0m\u001b[0;34m(\u001b[0m\u001b[0mframe\u001b[0m\u001b[0;34m,\u001b[0m \u001b[0marg\u001b[0m\u001b[0;34m)\u001b[0m\u001b[0;34m\u001b[0m\u001b[0;34m\u001b[0m\u001b[0m\n",
            "\u001b[0;32m/usr/lib/python3.7/bdb.py\u001b[0m in \u001b[0;36mdispatch_line\u001b[0;34m(self, frame)\u001b[0m\n\u001b[1;32m    111\u001b[0m         \u001b[0;32mif\u001b[0m \u001b[0mself\u001b[0m\u001b[0;34m.\u001b[0m\u001b[0mstop_here\u001b[0m\u001b[0;34m(\u001b[0m\u001b[0mframe\u001b[0m\u001b[0;34m)\u001b[0m \u001b[0;32mor\u001b[0m \u001b[0mself\u001b[0m\u001b[0;34m.\u001b[0m\u001b[0mbreak_here\u001b[0m\u001b[0;34m(\u001b[0m\u001b[0mframe\u001b[0m\u001b[0;34m)\u001b[0m\u001b[0;34m:\u001b[0m\u001b[0;34m\u001b[0m\u001b[0;34m\u001b[0m\u001b[0m\n\u001b[1;32m    112\u001b[0m             \u001b[0mself\u001b[0m\u001b[0;34m.\u001b[0m\u001b[0muser_line\u001b[0m\u001b[0;34m(\u001b[0m\u001b[0mframe\u001b[0m\u001b[0;34m)\u001b[0m\u001b[0;34m\u001b[0m\u001b[0;34m\u001b[0m\u001b[0m\n\u001b[0;32m--> 113\u001b[0;31m             \u001b[0;32mif\u001b[0m \u001b[0mself\u001b[0m\u001b[0;34m.\u001b[0m\u001b[0mquitting\u001b[0m\u001b[0;34m:\u001b[0m \u001b[0;32mraise\u001b[0m \u001b[0mBdbQuit\u001b[0m\u001b[0;34m\u001b[0m\u001b[0;34m\u001b[0m\u001b[0m\n\u001b[0m\u001b[1;32m    114\u001b[0m         \u001b[0;32mreturn\u001b[0m \u001b[0mself\u001b[0m\u001b[0;34m.\u001b[0m\u001b[0mtrace_dispatch\u001b[0m\u001b[0;34m\u001b[0m\u001b[0;34m\u001b[0m\u001b[0m\n\u001b[1;32m    115\u001b[0m \u001b[0;34m\u001b[0m\u001b[0m\n",
            "\u001b[0;31mBdbQuit\u001b[0m: "
          ]
        }
      ],
      "source": [
        "odd_even_list = (4,1,3,7,2,6,5)\n",
        "i = 0\n",
        "odd_nums =[1,3,5,7]\n",
        "even_nums =[2,4,6]e\n",
        "\n",
        "while(i<len(odd_even_list)):\n",
        "  breakpoint()\n",
        "  if odd_even_list[i] % 2 != 0 and len(odd_nums) <5:\n",
        "    odd_nums.append(odd_even_list[i]odd_even_list[i])\n",
        "\n",
        "  if odd_even_list[i] % 2 != 0 and len(even_nums) <5:\n",
        "    even_nums.append(odd_even_list[i])\n",
        "\n",
        "  i += 1\n",
        "  print(odd_nums)\n",
        "  print(even_nums)"
      ]
    }
  ],
  "metadata": {
    "colab": {
      "collapsed_sections": [],
      "provenance": [],
      "include_colab_link": true
    },
    "kernelspec": {
      "display_name": "Python 3",
      "name": "python3"
    },
    "language_info": {
      "name": "python"
    }
  },
  "nbformat": 4,
  "nbformat_minor": 0
}